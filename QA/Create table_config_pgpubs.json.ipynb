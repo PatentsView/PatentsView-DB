{
 "cells": [
  {
   "cell_type": "code",
   "execution_count": null,
   "id": "76d1f6a1",
   "metadata": {},
   "outputs": [],
   "source": [
    "import os\n",
    "import pymysql\n",
    "import datetime"
   ]
  },
  {
   "cell_type": "code",
   "execution_count": null,
   "id": "d197fbcc",
   "metadata": {},
   "outputs": [],
   "source": [
    "conda uninstall pandas"
   ]
  },
  {
   "cell_type": "code",
   "execution_count": null,
   "id": "34070e5e",
   "metadata": {},
   "outputs": [],
   "source": [
    "os.environ['PACKAGE_HOME']=\"/Users/bcard/OneDrive - American Institutes for Research in the Behavioral Sciences/projects/patentsview/PatentsView-DB\"\n"
   ]
  },
  {
   "cell_type": "code",
   "execution_count": null,
   "id": "a36bc404",
   "metadata": {},
   "outputs": [],
   "source": [
    "cd .."
   ]
  },
  {
   "cell_type": "code",
   "execution_count": null,
   "id": "500f86d2",
   "metadata": {
    "ExecuteTime": {
     "end_time": "2021-12-15T18:48:26.908237Z",
     "start_time": "2021-12-15T18:48:26.903306Z"
    }
   },
   "outputs": [],
   "source": [
    "from lib.configuration import get_config, get_connection_string, get_current_config\n",
    "\n",
    "\n",
    "c=get_config()"
   ]
  },
  {
   "cell_type": "code",
   "execution_count": null,
   "id": "319cdc1a",
   "metadata": {},
   "outputs": [],
   "source": [
    "config = get_current_config('pgpubs', **{\n",
    "        \"execution_date\": datetime.date(2021, 11, 4)\n",
    "    })"
   ]
  },
  {
   "cell_type": "code",
   "execution_count": null,
   "id": "683eefd2",
   "metadata": {
    "ExecuteTime": {
     "end_time": "2021-12-15T18:49:11.352415Z",
     "start_time": "2021-12-15T18:49:11.349175Z"
    }
   },
   "outputs": [],
   "source": [
    "connection_string=get_connection_string(config, database=\"PROD_DB\")"
   ]
  },
  {
   "cell_type": "code",
   "execution_count": null,
   "id": "2f46f562",
   "metadata": {},
   "outputs": [],
   "source": [
    "connection_string"
   ]
  },
  {
   "cell_type": "code",
   "execution_count": null,
   "id": "c995e21a",
   "metadata": {
    "ExecuteTime": {
     "end_time": "2021-12-15T18:49:11.741975Z",
     "start_time": "2021-12-15T18:49:11.738444Z"
    }
   },
   "outputs": [],
   "source": [
    "from sqlalchemy import create_engine"
   ]
  },
  {
   "cell_type": "code",
   "execution_count": null,
   "id": "962084b3",
   "metadata": {
    "ExecuteTime": {
     "end_time": "2021-12-15T18:49:35.214997Z",
     "start_time": "2021-12-15T18:49:34.897190Z"
    }
   },
   "outputs": [],
   "source": [
    "engine=create_engine(connection_string)"
   ]
  },
  {
   "cell_type": "code",
   "execution_count": null,
   "id": "81112553",
   "metadata": {
    "ExecuteTime": {
     "end_time": "2021-12-15T18:49:59.894929Z",
     "start_time": "2021-12-15T18:49:55.597312Z"
    }
   },
   "outputs": [],
   "source": [
    "from pandas import read_sql_query"
   ]
  },
  {
   "cell_type": "code",
   "execution_count": null,
   "id": "7775df81",
   "metadata": {
    "ExecuteTime": {
     "end_time": "2021-12-15T18:51:01.211783Z",
     "start_time": "2021-12-15T18:51:01.147593Z"
    }
   },
   "outputs": [],
   "source": [
    "# columns=pd.read_sql_query(sql=\"\"\"\n",
    "# select *\n",
    "# from information_schema.COLUMNS\n",
    "# where TABLE_SCHEMA = 'pregrant_publications'\n",
    "#   and TABLE_NAME not like '%%temp%%'\n",
    "#   and TABLE_NAME not like '%%ernest%%'\n",
    "#   and TABLE_NAME not like 'brf_sum_text%%'\n",
    "#   and TABLE_NAME not like 'detail_desc%%'\n",
    "#   and table_name not like 'draw_desc%%'\n",
    "#   and table_name not like 'claim_%%' group by TABLE_NAME;\n",
    "# \"\"\", con=engine)"
   ]
  },
  {
   "cell_type": "code",
   "execution_count": null,
   "id": "aae33581",
   "metadata": {},
   "outputs": [],
   "source": [
    "columns=pd.read_sql_query(sql=\"\"\"\n",
    "select *\n",
    "from information_schema.COLUMNS\n",
    "where TABLE_SCHEMA = 'pregrant_publications'\n",
    "  and TABLE_NAME not like '%%tmp%%'\n",
    "  and TABLE_NAME not like '%%temp%%'\n",
    "  and TABLE_NAME not like '%%backup%%'\n",
    "  and TABLE_NAME not like '%%20201229%%'\n",
    "  and TABLE_NAME not like '%%20201231%%'\n",
    "  and TABLE_NAME not like '%%20210330%%'\n",
    "  and TABLE_NAME not like '%%20210629%%'\n",
    "  and TABLE_NAME not like '%%20210930%%'\n",
    "  and TABLE_NAME not like '%%archive%%'\n",
    "  and TABLE_NAME not like '%%disamb%%'\n",
    "  and TABLE_NAME not like 'brf_sum_text_%%'\n",
    "  and TABLE_NAME not like 'detail_desc_text_%%'\n",
    "  and TABLE_NAME not like 'claim_%%'\n",
    "  and TABLE_NAME not like 'draw_desc_text_%%'\n",
    "\"\"\", con=engine)"
   ]
  },
  {
   "cell_type": "code",
   "execution_count": null,
   "id": "e96a0854",
   "metadata": {
    "ExecuteTime": {
     "end_time": "2021-12-15T18:57:34.121366Z",
     "start_time": "2021-12-15T18:57:34.088963Z"
    }
   },
   "outputs": [],
   "source": [
    "columns.groupby('TABLE_NAME').get_group('application')"
   ]
  },
  {
   "cell_type": "code",
   "execution_count": null,
   "id": "bc0c3f9d",
   "metadata": {},
   "outputs": [],
   "source": [
    "columns['TABLE_NAME'].unique()"
   ]
  },
  {
   "cell_type": "code",
   "execution_count": null,
   "id": "b52a04d7",
   "metadata": {},
   "outputs": [],
   "source": [
    "## Pulled From DataMonitor_categorycount JSON\n",
    "category_list = ['category',\n",
    "'class',\n",
    "'class_data_source',\n",
    "'class_status',\n",
    "'class_value',\n",
    "#'country', \n",
    "'deceased',\n",
    "'designation',\n",
    "'doc_type',\n",
    "'filing_type',\n",
    "'kind',\n",
    "'main_group',\n",
    "'mainclass_id',\n",
    "'relkind',\n",
    "'section',\n",
    "'subclass',\n",
    "'symbol_position',\n",
    "'type',\n",
    "'value',\n",
    "'version']\n"
   ]
  },
  {
   "cell_type": "code",
   "execution_count": null,
   "id": "ab0471da",
   "metadata": {
    "ExecuteTime": {
     "end_time": "2021-12-15T19:06:05.968523Z",
     "start_time": "2021-12-15T19:06:05.963573Z"
    }
   },
   "outputs": [],
   "source": [
    "def generate_column_setting(column):\n",
    "    \n",
    "    data_type = 'varchar'\n",
    "    if column.DATA_TYPE in ['date', 'timestamp']:\n",
    "        data_type = 'date'\n",
    "    if column.DATA_TYPE in ['int', 'bigint', 'smallint', 'float', 'decimal']:\n",
    "        data_type = 'int'\n",
    "    \n",
    "    null_allowed = True\n",
    "    if column.IS_NULLABLE == 'NO':\n",
    "        null_allowed = False\n",
    "    \n",
    "    location_field = False\n",
    "    if column.COLUMN_NAME in ['country','country_transformedd']:\n",
    "        location_field = True\n",
    "    \n",
    "    category = False\n",
    "    if column.COLUMN_NAME in category_list:\n",
    "        if column.TABLE_NAME in ['further_cpc','main_cpc','ipcr']:\n",
    "            print(\"Skipping this one\")\n",
    "        else:\n",
    "            category=True\n",
    "        \n",
    "    setting = {\n",
    "        column.COLUMN_NAME: {\n",
    "            'data_type': data_type,\n",
    "            'null_allowed': null_allowed,\n",
    "            'category': category,\n",
    "            'location_field': location_field\n",
    "        }\n",
    "    }\n",
    "    return setting"
   ]
  },
  {
   "cell_type": "code",
   "execution_count": null,
   "id": "0a23851a",
   "metadata": {
    "ExecuteTime": {
     "end_time": "2021-12-15T19:12:14.427421Z",
     "start_time": "2021-12-15T19:12:14.424468Z"
    }
   },
   "outputs": [],
   "source": [
    "from functools import reduce\n"
   ]
  },
  {
   "cell_type": "code",
   "execution_count": null,
   "id": "e1342508",
   "metadata": {
    "ExecuteTime": {
     "end_time": "2021-12-15T19:11:40.069161Z",
     "start_time": "2021-12-15T19:11:40.065411Z"
    }
   },
   "outputs": [],
   "source": [
    "def generate_table_setting(table_group):\n",
    "    y=table_group.apply(generate_column_setting,axis=1)\n",
    "    t_set={table_group.name:{\"fields\":reduce(lambda a, b: dict(a, **b), y.tolist())}}\n",
    "    return t_set"
   ]
  },
  {
   "cell_type": "code",
   "execution_count": null,
   "id": "1cfe25d0",
   "metadata": {
    "ExecuteTime": {
     "end_time": "2021-12-15T19:11:40.604717Z",
     "start_time": "2021-12-15T19:11:40.530032Z"
    }
   },
   "outputs": [],
   "source": [
    "x=columns.groupby('TABLE_NAME').apply(func=generate_table_setting)"
   ]
  },
  {
   "cell_type": "code",
   "execution_count": null,
   "id": "46e5ce72",
   "metadata": {},
   "outputs": [],
   "source": [
    "x.keys()"
   ]
  },
  {
   "cell_type": "code",
   "execution_count": null,
   "id": "27da8773",
   "metadata": {
    "ExecuteTime": {
     "end_time": "2021-12-15T19:12:15.941927Z",
     "start_time": "2021-12-15T19:12:15.937970Z"
    }
   },
   "outputs": [],
   "source": [
    "c_set=reduce(lambda a, b: dict(a, **b), x.tolist())"
   ]
  },
  {
   "cell_type": "code",
   "execution_count": null,
   "id": "5c55b2dc",
   "metadata": {
    "ExecuteTime": {
     "end_time": "2021-12-15T19:12:18.731652Z",
     "start_time": "2021-12-15T19:12:18.671423Z"
    }
   },
   "outputs": [],
   "source": [
    "c_set"
   ]
  },
  {
   "cell_type": "code",
   "execution_count": null,
   "id": "0d446aff",
   "metadata": {},
   "outputs": [],
   "source": [
    "foreign_tables = []\n",
    "for i in c_set.keys():\n",
    "#     print(i)\n",
    "    if i != 'publication':\n",
    "        for j in c_set[i]['fields']:\n",
    "    #         print(\"=====\", j)\n",
    "            if j == 'document_number':\n",
    "                foreign_tables.append(['publication', 'document_number', i, 'document_number'])"
   ]
  },
  {
   "cell_type": "code",
   "execution_count": null,
   "id": "296da7dd",
   "metadata": {},
   "outputs": [],
   "source": [
    "related_entities_lookup1 = pd.DataFrame(list(foreign_tables), columns=['main_table','main_table_id','related_table','related_table_id'])\n"
   ]
  },
  {
   "cell_type": "code",
   "execution_count": null,
   "id": "4614d096",
   "metadata": {},
   "outputs": [],
   "source": [
    "related_entities_lookup1"
   ]
  },
  {
   "cell_type": "code",
   "execution_count": null,
   "id": "d0bc8638",
   "metadata": {},
   "outputs": [],
   "source": [
    "foreign_tables = []\n",
    "for i in c_set.keys():\n",
    "#     print(i)\n",
    "    for j in c_set[i]['fields']:\n",
    "#         print(\"=====\", j)\n",
    "        words = j.split(\"_\")\n",
    "        for w in words:\n",
    "            if w in c_set.keys():\n",
    "                if i != w:\n",
    "                    if j=='application_number':\n",
    "                        dest_id = 'application_number'\n",
    "#                     elif w[:3] == 'raw':\n",
    "#                         dest_id = 'uuid'\n",
    "                    else:\n",
    "                        dest_id = 'id'\n",
    "                    foreign_tables.append([i, j, w, dest_id])"
   ]
  },
  {
   "cell_type": "code",
   "execution_count": null,
   "id": "62bfd1e8",
   "metadata": {},
   "outputs": [],
   "source": [
    "related_entities_lookup2 = pd.DataFrame(list(foreign_tables), columns=['main_table','main_table_id','related_table','related_table_id'])\n"
   ]
  },
  {
   "cell_type": "code",
   "execution_count": null,
   "id": "7ef1ecbc",
   "metadata": {},
   "outputs": [],
   "source": [
    "related_entities_lookup2"
   ]
  },
  {
   "cell_type": "code",
   "execution_count": null,
   "id": "2038cef0",
   "metadata": {},
   "outputs": [],
   "source": [
    "related_entities_lookup = pd.concat([related_entities_lookup1, related_entities_lookup2])\n"
   ]
  },
  {
   "cell_type": "code",
   "execution_count": null,
   "id": "4669da7b",
   "metadata": {},
   "outputs": [],
   "source": [
    "# ADDING IN RELATIONAL ENTITIES \n",
    "for i in c_set.keys():\n",
    "    if i in set(list(related_entities_lookup[\"main_table\"])):\n",
    "        related_tables = list(related_entities_lookup[\"related_table\"][related_entities_lookup[\"main_table\"]==i])\n",
    "        dict_list = []\n",
    "        for z in related_tables:\n",
    "            table = related_entities_lookup[\"related_table\"][ (related_entities_lookup[\"main_table\"]==i) & (related_entities_lookup[\"related_table\"]==z) ].item()\n",
    "            mt_id = related_entities_lookup[\"main_table_id\"][ (related_entities_lookup[\"main_table\"]==i) & (related_entities_lookup[\"related_table\"]==z) ].item()\n",
    "            rel_id = related_entities_lookup[\"related_table_id\"][ (related_entities_lookup[\"main_table\"]==i) & (related_entities_lookup[\"related_table\"]==z) ].item()\n",
    "            temp = {\n",
    "                \"related_table\": table,\n",
    "                \"main_table_id\": mt_id,\n",
    "                \"related_table_id\": rel_id\n",
    "                }\n",
    "            dict_list.append(temp)\n",
    "        c_set[i]['related_entities']=dict_list\n",
    "            "
   ]
  },
  {
   "cell_type": "code",
   "execution_count": null,
   "id": "0afc1ff3",
   "metadata": {},
   "outputs": [],
   "source": [
    "c_set['rawassignee']['related_entities']"
   ]
  },
  {
   "cell_type": "code",
   "execution_count": null,
   "id": "783be545",
   "metadata": {},
   "outputs": [],
   "source": [
    "# PRINT FUNCTION FOR COPYING THE OUTPUT INTO JSON\n",
    "c_set"
   ]
  },
  {
   "cell_type": "code",
   "execution_count": null,
   "id": "a818418e",
   "metadata": {},
   "outputs": [],
   "source": [
    "exclusion_list = []\n",
    "for i in c_set.keys():\n",
    "    print(i,\"TABLE =====================\")\n",
    "    temp = 0\n",
    "    for j in c_set[i]['fields']:\n",
    "        print(j, \"FIELD\")\n",
    "        if j == 'document_number':\n",
    "            temp += 1\n",
    "        else:\n",
    "            pass\n",
    "    print(temp)\n",
    "    if temp == 1:\n",
    "        pass\n",
    "    else:\n",
    "        exclusion_list.append(i)\n",
    "        \n",
    "    "
   ]
  },
  {
   "cell_type": "code",
   "execution_count": null,
   "id": "762f924d",
   "metadata": {},
   "outputs": [],
   "source": [
    "exclusion_list"
   ]
  },
  {
   "cell_type": "code",
   "execution_count": null,
   "id": "58459380",
   "metadata": {},
   "outputs": [],
   "source": [
    "for related_entity_config in c_set['publication_assignee']['related_entities']:\n",
    "    print(related_entity_config)\n",
    "    "
   ]
  },
  {
   "cell_type": "code",
   "execution_count": null,
   "id": "45b7a56f",
   "metadata": {},
   "outputs": [],
   "source": [
    "c_set.keys()"
   ]
  },
  {
   "cell_type": "code",
   "execution_count": null,
   "id": "39c6ac03",
   "metadata": {},
   "outputs": [],
   "source": [
    "test_script_list = []\n",
    "for i in c_set.keys():\n",
    "    if i in MergeTest:\n",
    "        test_script_list.append(\"MergeTestWeekly\")\n",
    "        test_script_list.append(\"MergeTestQuarterly\")\n",
    "    if i in UploadTest:\n",
    "        test_script_list.append(\"UploadTest\")\n",
    "#     if i[:7] in ['brf_sum','claims_','draw_de','detail_']:\n",
    "#         test_script_list.append(\"TextTest\")\n",
    "    c_set[i]['TestScripts'] = test_script_list\n",
    "    test_script_list = []"
   ]
  },
  {
   "cell_type": "code",
   "execution_count": null,
   "id": "4d6ff53e",
   "metadata": {},
   "outputs": [],
   "source": [
    "c_set"
   ]
  },
  {
   "cell_type": "code",
   "execution_count": null,
   "id": "f1164880",
   "metadata": {},
   "outputs": [],
   "source": [
    "UploadTest = ['application',\n",
    "'brf_sum_text',\n",
    "'brf_sum_text_2001',\n",
    "'brf_sum_text_2002',\n",
    "'brf_sum_text_2003',\n",
    "'brf_sum_text_2004',\n",
    "'brf_sum_text_2005',\n",
    "'brf_sum_text_2006',\n",
    "'brf_sum_text_2007',\n",
    "'brf_sum_text_2008',\n",
    "'brf_sum_text_2009',\n",
    "'brf_sum_text_2010',\n",
    "'brf_sum_text_2011',\n",
    "'brf_sum_text_2012',\n",
    "'brf_sum_text_2013',\n",
    "'brf_sum_text_2014',\n",
    "'brf_sum_text_2015',\n",
    "'brf_sum_text_2016',\n",
    "'brf_sum_text_2017',\n",
    "'brf_sum_text_2018',\n",
    "'brf_sum_text_2019',\n",
    "'brf_sum_text_2020',\n",
    "'brf_sum_text_2021',\n",
    "'claim',\n",
    "'claim_2001',\n",
    "'claim_2002',\n",
    "'claim_2003',\n",
    "'claim_2004',\n",
    "'claim_2005',\n",
    "'claim_2006',\n",
    "'claim_2007',\n",
    "'claim_2008',\n",
    "'claim_2009',\n",
    "'claim_2010',\n",
    "'claim_2011',\n",
    "'claim_2012',\n",
    "'claim_2013',\n",
    "'claim_2014',\n",
    "'claim_2015',\n",
    "'claim_2016',\n",
    "'claim_2017',\n",
    "'claim_2018',\n",
    "'claim_2019',\n",
    "'claim_2020',\n",
    "'claim_2021',\n",
    "'cpc',\n",
    "'detail_desc_text',\n",
    "'detail_desc_text_2001',\n",
    "'detail_desc_text_2002',\n",
    "'detail_desc_text_2003',\n",
    "'detail_desc_text_2004',\n",
    "'detail_desc_text_2005',\n",
    "'detail_desc_text_2006',\n",
    "'detail_desc_text_2007',\n",
    "'detail_desc_text_2008',\n",
    "'detail_desc_text_2009',\n",
    "'detail_desc_text_2010',\n",
    "'detail_desc_text_2011',\n",
    "'detail_desc_text_2012',\n",
    "'detail_desc_text_2013',\n",
    "'detail_desc_text_2014',\n",
    "'detail_desc_text_2015',\n",
    "'detail_desc_text_2016',\n",
    "'detail_desc_text_2017',\n",
    "'detail_desc_text_2018',\n",
    "'detail_desc_text_2019',\n",
    "'detail_desc_text_2020',\n",
    "'detail_desc_text_2021',\n",
    "'draw_desc_text',\n",
    "'draw_desc_text_2001',\n",
    "'draw_desc_text_2002',\n",
    "'draw_desc_text_2003',\n",
    "'draw_desc_text_2004',\n",
    "'draw_desc_text_2005',\n",
    "'draw_desc_text_2006',\n",
    "'draw_desc_text_2007',\n",
    "'draw_desc_text_2008',\n",
    "'draw_desc_text_2009',\n",
    "'draw_desc_text_2010',\n",
    "'draw_desc_text_2011',\n",
    "'draw_desc_text_2012',\n",
    "'draw_desc_text_2013',\n",
    "'draw_desc_text_2014',\n",
    "'draw_desc_text_2015',\n",
    "'draw_desc_text_2016',\n",
    "'draw_desc_text_2017',\n",
    "'draw_desc_text_2018',\n",
    "'draw_desc_text_2019',\n",
    "'draw_desc_text_2020',\n",
    "'draw_desc_text_2021',\n",
    "'foreign_priority',\n",
    "'further_cpc',\n",
    "'ipcr',\n",
    "'main_cpc',\n",
    "'pct_data',\n",
    "'publication',\n",
    "'rawassignee',\n",
    "'rawinventor',\n",
    "'rawlocation',\n",
    "'rawuspc',\n",
    "'rel_app_text',\n",
    "'us_parties',\n",
    "'uspc',\n",
    "'usreldoc',\n",
    "'usreldoc_parent_child',\n",
    "'usreldoc_related',\n",
    "'usreldoc_single']"
   ]
  },
  {
   "cell_type": "code",
   "execution_count": null,
   "id": "cfebbec4",
   "metadata": {},
   "outputs": [],
   "source": [
    "MergeTest = ['application',\n",
    "'brf_sum_text_2001',\n",
    "'brf_sum_text_2002',\n",
    "'brf_sum_text_2003',\n",
    "'brf_sum_text_2004',\n",
    "'brf_sum_text_2005',\n",
    "'brf_sum_text_2006',\n",
    "'brf_sum_text_2007',\n",
    "'brf_sum_text_2008',\n",
    "'brf_sum_text_2009',\n",
    "'brf_sum_text_2010',\n",
    "'brf_sum_text_2011',\n",
    "'brf_sum_text_2012',\n",
    "'brf_sum_text_2013',\n",
    "'brf_sum_text_2014',\n",
    "'brf_sum_text_2015',\n",
    "'brf_sum_text_2016',\n",
    "'brf_sum_text_2017',\n",
    "'brf_sum_text_2018',\n",
    "'brf_sum_text_2019',\n",
    "'brf_sum_text_2020',\n",
    "'brf_sum_text_2021',\n",
    "'claim_2001',\n",
    "'claim_2002',\n",
    "'claim_2003',\n",
    "'claim_2004',\n",
    "'claim_2005',\n",
    "'claim_2006',\n",
    "'claim_2007',\n",
    "'claim_2008',\n",
    "'claim_2009',\n",
    "'claim_2010',\n",
    "'claim_2011',\n",
    "'claim_2012',\n",
    "'claim_2013',\n",
    "'claim_2014',\n",
    "'claim_2015',\n",
    "'claim_2016',\n",
    "'claim_2017',\n",
    "'claim_2018',\n",
    "'claim_2019',\n",
    "'claim_2020',\n",
    "'claim_2021',\n",
    "'cpc',\n",
    "'detail_desc_text_2001',\n",
    "'detail_desc_text_2002',\n",
    "'detail_desc_text_2003',\n",
    "'detail_desc_text_2004',\n",
    "'detail_desc_text_2005',\n",
    "'detail_desc_text_2006',\n",
    "'detail_desc_text_2007',\n",
    "'detail_desc_text_2008',\n",
    "'detail_desc_text_2009',\n",
    "'detail_desc_text_2010',\n",
    "'detail_desc_text_2011',\n",
    "'detail_desc_text_2012',\n",
    "'detail_desc_text_2013',\n",
    "'detail_desc_text_2014',\n",
    "'detail_desc_text_2015',\n",
    "'detail_desc_text_2016',\n",
    "'detail_desc_text_2017',\n",
    "'detail_desc_text_2018',\n",
    "'detail_desc_text_2019',\n",
    "'detail_desc_text_2020',\n",
    "'detail_desc_text_2021',\n",
    "'draw_desc_text_2001',\n",
    "'draw_desc_text_2002',\n",
    "'draw_desc_text_2003',\n",
    "'draw_desc_text_2004',\n",
    "'draw_desc_text_2005',\n",
    "'draw_desc_text_2006',\n",
    "'draw_desc_text_2007',\n",
    "'draw_desc_text_2008',\n",
    "'draw_desc_text_2009',\n",
    "'draw_desc_text_2010',\n",
    "'draw_desc_text_2011',\n",
    "'draw_desc_text_2012',\n",
    "'draw_desc_text_2013',\n",
    "'draw_desc_text_2014',\n",
    "'draw_desc_text_2015',\n",
    "'draw_desc_text_2016',\n",
    "'draw_desc_text_2017',\n",
    "'draw_desc_text_2018',\n",
    "'draw_desc_text_2019',\n",
    "'draw_desc_text_2020',\n",
    "'draw_desc_text_2021',\n",
    "'foreign_priority',\n",
    "'further_cpc',\n",
    "'ipcr',\n",
    "'main_cpc',\n",
    "'pct_data',\n",
    "'publication',\n",
    "'rawassignee',\n",
    "'rawinventor',\n",
    "'rawlocation',\n",
    "'rawuspc',\n",
    "'rel_app_text',\n",
    "'us_parties',\n",
    "'uspc',\n",
    "'usreldoc']"
   ]
  },
  {
   "cell_type": "markdown",
   "id": "a3dad67b",
   "metadata": {},
   "source": [
    "#### REMOVE UNIMPORTANT COLUMNS"
   ]
  },
  {
   "cell_type": "code",
   "execution_count": null,
   "id": "e4353412",
   "metadata": {},
   "outputs": [],
   "source": [
    "for i in c_set.keys():\n",
    "    for j in list(c_set[i]['fields'].keys()):\n",
    "        if j in ['created_date','updated_date','version_indicator','location_id_transformed']:\n",
    "            del c_set[i]['fields'][j]"
   ]
  },
  {
   "cell_type": "code",
   "execution_count": null,
   "id": "50498b30",
   "metadata": {},
   "outputs": [],
   "source": [
    "c_set.keys()"
   ]
  },
  {
   "cell_type": "code",
   "execution_count": null,
   "id": "e22f1e48",
   "metadata": {},
   "outputs": [],
   "source": [
    "len(list(c_set.keys()) )"
   ]
  },
  {
   "cell_type": "code",
   "execution_count": null,
   "id": "f3ddb9de",
   "metadata": {},
   "outputs": [],
   "source": [
    "MergeTest = ['application','claim','cpc','draw_desc_text','foreign_priority','further_cpc','ipcr','main_cpc','publication']\n",
    "\n",
    "\n"
   ]
  },
  {
   "cell_type": "code",
   "execution_count": null,
   "id": "b6d308be",
   "metadata": {},
   "outputs": [],
   "source": [
    "# def without_keys(d, keys):\n",
    "#     return {x: d[x] for x in d if x not in keys}"
   ]
  },
  {
   "cell_type": "code",
   "execution_count": null,
   "id": "8d897b4d",
   "metadata": {},
   "outputs": [],
   "source": [
    "# final = without_keys(c_set, exclusion_list)\n",
    "# final"
   ]
  },
  {
   "cell_type": "code",
   "execution_count": null,
   "id": "6f75c7d3",
   "metadata": {},
   "outputs": [],
   "source": [
    "#### UPDATES NEEDED IN REPO\n",
    "# change True and False to lowercase\n",
    "# change datatype to data_type"
   ]
  }
 ],
 "metadata": {
  "kernelspec": {
   "display_name": "Python 3 (ipykernel)",
   "language": "python",
   "name": "python3"
  },
  "language_info": {
   "codemirror_mode": {
    "name": "ipython",
    "version": 3
   },
   "file_extension": ".py",
   "mimetype": "text/x-python",
   "name": "python",
   "nbconvert_exporter": "python",
   "pygments_lexer": "ipython3",
   "version": "3.8.8"
  }
 },
 "nbformat": 4,
 "nbformat_minor": 5
}
