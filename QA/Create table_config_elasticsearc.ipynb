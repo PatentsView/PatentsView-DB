{
 "cells": [
  {
   "cell_type": "code",
   "execution_count": 304,
   "metadata": {
    "ExecuteTime": {
     "end_time": "2024-03-22T19:39:57.494726Z",
     "start_time": "2024-03-22T19:39:57.401682Z"
    }
   },
   "outputs": [],
   "source": [
    "import os\n",
    "import pymysql\n",
    "import datetime\n",
    "import pandas as pd\n",
    "import lib\n",
    "from sqlalchemy import create_engine\n",
    "from functools import reduce\n",
    "from sqlalchemy import create_engine\n",
    "import urllib.parse\n",
    "from lib.configuration import get_config, get_connection_string,get_current_config\n",
    "import json"
   ]
  },
  {
   "cell_type": "code",
   "execution_count": 305,
   "metadata": {
    "ExecuteTime": {
     "end_time": "2024-03-22T19:39:57.495127Z",
     "start_time": "2024-03-22T19:39:57.404683Z"
    }
   },
   "outputs": [],
   "source": [
    "os.environ['PACKAGE_HOME']=\"/Users/gchickering/offline_Github/PatentsView/PatentsView-DB\""
   ]
  },
  {
   "cell_type": "code",
   "execution_count": 306,
   "metadata": {
    "ExecuteTime": {
     "end_time": "2024-03-22T19:39:57.495245Z",
     "start_time": "2024-03-22T19:39:57.407461Z"
    },
    "collapsed": false
   },
   "outputs": [
    {
     "name": "stdout",
     "output_type": "stream",
     "text": [
      "\n",
      "    generating config with parameters: \n",
      "    type: granted_patent\n",
      "    schedule: weekly\n",
      "    execution date: 2021-11-04\n"
     ]
    }
   ],
   "source": [
    "config = get_current_config('granted_patent', **{\n",
    "        \"execution_date\": datetime.date(2021, 11, 4)\n",
    "    })"
   ]
  },
  {
   "cell_type": "code",
   "execution_count": 307,
   "metadata": {
    "ExecuteTime": {
     "end_time": "2024-03-22T19:39:57.509515Z",
     "start_time": "2024-03-22T19:39:57.411225Z"
    },
    "collapsed": false
   },
   "outputs": [],
   "source": [
    "database = '{}'.format('elastic_production_pgpub_20231231')\n",
    "host = '{}'.format('patentsview-ingest-production.cckzcdkkfzqo.us-east-1.rds.amazonaws.com')\n",
    "user = '{}'.format('pipeline_user')\n",
    "password = '{}'.format('')\n",
    "port = '{}'.format('3306')\n",
    "connection_string = 'mysql+pymysql://{0}:{1}@{2}:{3}/{4}?charset=utf8mb4'.format(user, password, host, port, database)"
   ]
  },
  {
   "cell_type": "code",
   "execution_count": 308,
   "metadata": {
    "ExecuteTime": {
     "end_time": "2024-03-22T19:39:57.509709Z",
     "start_time": "2024-03-22T19:39:57.414865Z"
    }
   },
   "outputs": [],
   "source": [
    "connection_string=get_connection_string(config, database='PROD_DB')"
   ]
  },
  {
   "cell_type": "code",
   "execution_count": 309,
   "metadata": {
    "ExecuteTime": {
     "end_time": "2024-03-22T19:39:57.509758Z",
     "start_time": "2024-03-22T19:39:57.416973Z"
    }
   },
   "outputs": [],
   "source": [
    "engine=create_engine(connection_string)"
   ]
  },
  {
   "cell_type": "code",
   "execution_count": 310,
   "metadata": {
    "ExecuteTime": {
     "end_time": "2024-03-22T19:39:59.214558Z",
     "start_time": "2024-03-22T19:39:57.420093Z"
    }
   },
   "outputs": [],
   "source": [
    "columns=pd.read_sql_query(sql=\"\"\"\n",
    "select *\n",
    "from information_schema.COLUMNS\n",
    "where TABLE_SCHEMA = 'elastic_production_pgpub_20231231';\n",
    "\"\"\", con=engine)"
   ]
  },
  {
   "cell_type": "code",
   "execution_count": 311,
   "metadata": {
    "ExecuteTime": {
     "end_time": "2024-03-22T19:39:59.220449Z",
     "start_time": "2024-03-22T19:39:59.214350Z"
    },
    "collapsed": false
   },
   "outputs": [
    {
     "data": {
      "text/plain": [
       "array(['rel_app_text', 'publication_cpc_at_issue', 'publication_ipcr',\n",
       "       'publication_gov_contract', 'publication_uspc_at_issue',\n",
       "       'publication', 'publication_wipo', 'foreign_priority',\n",
       "       'publication_cpc_current', 'granted_pregrant_crosswalk', 'ipcr',\n",
       "       'publication_pct_data', 'us_parties', 'publication_assignee',\n",
       "       'publication_inventor', 'publication_gov_interest_organizations',\n",
       "       'publication_us_related_documents'], dtype=object)"
      ]
     },
     "execution_count": 311,
     "metadata": {},
     "output_type": "execute_result"
    }
   ],
   "source": [
    "columns['TABLE_NAME'].unique() #as a list"
   ]
  },
  {
   "cell_type": "code",
   "execution_count": 312,
   "metadata": {
    "ExecuteTime": {
     "end_time": "2024-03-22T19:39:59.224877Z",
     "start_time": "2024-03-22T19:39:59.219258Z"
    },
    "collapsed": false
   },
   "outputs": [
    {
     "data": {
      "text/plain": [
       "array(['varchar', 'bigint', 'mediumtext', 'int', 'date', 'smallint',\n",
       "       'text', 'tinyint'], dtype=object)"
      ]
     },
     "execution_count": 312,
     "metadata": {},
     "output_type": "execute_result"
    }
   ],
   "source": [
    "columns[\"DATA_TYPE\"].unique()"
   ]
  },
  {
   "cell_type": "code",
   "execution_count": 313,
   "metadata": {
    "ExecuteTime": {
     "end_time": "2024-03-22T19:39:59.232390Z",
     "start_time": "2024-03-22T19:39:59.223632Z"
    },
    "collapsed": false
   },
   "outputs": [],
   "source": [
    "category_list = ['applicant_type',\n",
    "'category',\n",
    "'classification_data_source',\n",
    "'classification_level',\n",
    "'classification_status',\n",
    "'deceased',\n",
    "'designation',\n",
    "'doc_type',\n",
    "'doctype',\n",
    "'field_id',\n",
    "'group',\n",
    "'group_id',\n",
    "'ipc_class',\n",
    "'kind',\n",
    "'relkind',\n",
    "'role',\n",
    "'section',\n",
    "'section_id',\n",
    "'state',\n",
    "'status',\n",
    "'subclass',\n",
    "'subgroup',\n",
    "'subgroup_id',\n",
    "'symbol_position',\n",
    "'type']"
   ]
  },
  {
   "cell_type": "code",
   "execution_count": 314,
   "metadata": {
    "ExecuteTime": {
     "end_time": "2024-03-22T19:39:59.232863Z",
     "start_time": "2024-03-22T19:39:59.228397Z"
    },
    "collapsed": false
   },
   "outputs": [],
   "source": [
    "def generate_column_setting(column):\n",
    "    data_type = 'varchar'\n",
    "    if column.DATA_TYPE in ['date', 'timestamp']:\n",
    "        data_type = 'date'\n",
    "    if column.DATA_TYPE in ['int', 'bigint', 'smallint', 'float', 'decimal']:\n",
    "        data_type = 'int'\n",
    "\n",
    "    null_allowed = True\n",
    "    if column.IS_NULLABLE == 'NO':\n",
    "        null_allowed = False\n",
    "\n",
    "    location_field = False\n",
    "    if column.COLUMN_NAME in ['country', 'country_transformed']:\n",
    "        location_field = True\n",
    "\n",
    "    category = False\n",
    "    if column.COLUMN_NAME in category_list:\n",
    "        if column.TABLE_NAME == 'foreign_priority':\n",
    "            if column.COLUMN_NAME =='kind':\n",
    "                category = False\n",
    "        elif column.TABLE_NAME in ['further_cpc','main_cpc']:\n",
    "            category = False\n",
    "        elif column.COLUMN_NAME == 'section_id' and column.TABLE_NAME != 'cpc':\n",
    "            category = False\n",
    "        else:\n",
    "            category=True\n",
    "\n",
    "    setting = {\n",
    "        column.COLUMN_NAME: {\n",
    "            'data_type': data_type,\n",
    "            'null_allowed': null_allowed,\n",
    "            'category': category,\n",
    "            'location_field': location_field\n",
    "        },\n",
    "    }\n",
    "    return setting\n"
   ]
  },
  {
   "cell_type": "code",
   "execution_count": 315,
   "metadata": {
    "ExecuteTime": {
     "end_time": "2024-03-22T19:39:59.235883Z",
     "start_time": "2024-03-22T19:39:59.231457Z"
    },
    "collapsed": false
   },
   "outputs": [],
   "source": [
    "def generate_table_setting(table_group):\n",
    "    y = table_group.apply(generate_column_setting, axis=1)\n",
    "    fields = reduce(lambda a, b: dict(a, **b), y.tolist())\n",
    "    return {\"fields\": fields}"
   ]
  },
  {
   "cell_type": "code",
   "execution_count": 316,
   "metadata": {
    "ExecuteTime": {
     "end_time": "2024-03-22T19:39:59.262316Z",
     "start_time": "2024-03-22T19:39:59.234322Z"
    },
    "collapsed": false
   },
   "outputs": [],
   "source": [
    "x=columns.groupby('TABLE_NAME').apply(func=generate_table_setting)"
   ]
  },
  {
   "cell_type": "code",
   "execution_count": 317,
   "metadata": {
    "ExecuteTime": {
     "end_time": "2024-03-22T19:39:59.262822Z",
     "start_time": "2024-03-22T19:39:59.253263Z"
    },
    "collapsed": false
   },
   "outputs": [
    {
     "data": {
      "text/plain": [
       "TABLE_NAME\n",
       "foreign_priority                          {'fields': {'document_number': {'data_type': '...\n",
       "granted_pregrant_crosswalk                {'fields': {'patent_id': {'data_type': 'varcha...\n",
       "ipcr                                      {'fields': {'ipcr_id': {'data_type': 'int', 'n...\n",
       "publication                               {'fields': {'id': {'data_type': 'varchar', 'nu...\n",
       "publication_assignee                      {'fields': {'assignee_id': {'data_type': 'varc...\n",
       "publication_cpc_at_issue                  {'fields': {'document_number': {'data_type': '...\n",
       "publication_cpc_current                   {'fields': {'document_number': {'data_type': '...\n",
       "publication_gov_contract                  {'fields': {'document_number': {'data_type': '...\n",
       "publication_gov_interest_organizations    {'fields': {'document_number': {'data_type': '...\n",
       "publication_inventor                      {'fields': {'inventor_id': {'data_type': 'varc...\n",
       "publication_ipcr                          {'fields': {'document_number': {'data_type': '...\n",
       "publication_pct_data                      {'fields': {'document_number': {'data_type': '...\n",
       "publication_us_related_documents          {'fields': {'document_number': {'data_type': '...\n",
       "publication_uspc_at_issue                 {'fields': {'document_number': {'data_type': '...\n",
       "publication_wipo                          {'fields': {'document_number': {'data_type': '...\n",
       "rel_app_text                              {'fields': {'id': {'data_type': 'varchar', 'nu...\n",
       "us_parties                                {'fields': {'id': {'data_type': 'varchar', 'nu...\n",
       "dtype: object"
      ]
     },
     "execution_count": 317,
     "metadata": {},
     "output_type": "execute_result"
    }
   ],
   "source": [
    "x"
   ]
  },
  {
   "cell_type": "code",
   "execution_count": 317,
   "metadata": {
    "ExecuteTime": {
     "end_time": "2024-03-22T19:39:59.262874Z",
     "start_time": "2024-03-22T19:39:59.256252Z"
    },
    "collapsed": false
   },
   "outputs": [],
   "source": []
  },
  {
   "cell_type": "code",
   "execution_count": 318,
   "metadata": {
    "ExecuteTime": {
     "end_time": "2024-03-22T19:39:59.262918Z",
     "start_time": "2024-03-22T19:39:59.258157Z"
    },
    "collapsed": false
   },
   "outputs": [],
   "source": [
    "# my_list"
   ]
  },
  {
   "cell_type": "code",
   "execution_count": 319,
   "metadata": {
    "ExecuteTime": {
     "end_time": "2024-03-22T19:39:59.272955Z",
     "start_time": "2024-03-22T19:39:59.261925Z"
    },
    "collapsed": false
   },
   "outputs": [],
   "source": [
    "my_list = []\n",
    "for keys in x.keys():\n",
    "    my_list.append(x[keys])\n",
    "    \n",
    "    \n",
    "super_dict = {}\n",
    "for k in set(k for d in my_list for k in d):\n",
    "    super_dict[k] = [d[k] for d in my_list if k in d]"
   ]
  },
  {
   "cell_type": "code",
   "execution_count": 320,
   "metadata": {
    "ExecuteTime": {
     "end_time": "2024-03-22T19:39:59.273495Z",
     "start_time": "2024-03-22T19:39:59.265439Z"
    },
    "collapsed": false
   },
   "outputs": [
    {
     "data": {
      "text/plain": [
       "{'fields': [{'document_number': {'data_type': 'int',\n",
       "    'null_allowed': False,\n",
       "    'category': False,\n",
       "    'location_field': False},\n",
       "   'foreign_doc_number': {'data_type': 'varchar',\n",
       "    'null_allowed': True,\n",
       "    'category': False,\n",
       "    'location_field': False},\n",
       "   'date': {'data_type': 'date',\n",
       "    'null_allowed': True,\n",
       "    'category': False,\n",
       "    'location_field': False},\n",
       "   'country': {'data_type': 'varchar',\n",
       "    'null_allowed': True,\n",
       "    'category': False,\n",
       "    'location_field': True},\n",
       "   'kind': {'data_type': 'varchar',\n",
       "    'null_allowed': True,\n",
       "    'category': False,\n",
       "    'location_field': False}},\n",
       "  {'patent_id': {'data_type': 'varchar',\n",
       "    'null_allowed': True,\n",
       "    'category': False,\n",
       "    'location_field': False},\n",
       "   'document_number': {'data_type': 'int',\n",
       "    'null_allowed': True,\n",
       "    'category': False,\n",
       "    'location_field': False},\n",
       "   'application_number': {'data_type': 'varchar',\n",
       "    'null_allowed': True,\n",
       "    'category': False,\n",
       "    'location_field': False},\n",
       "   'current_pgpub_id_flag': {'data_type': 'varchar',\n",
       "    'null_allowed': True,\n",
       "    'category': False,\n",
       "    'location_field': False},\n",
       "   'current_patent_id_flag': {'data_type': 'varchar',\n",
       "    'null_allowed': True,\n",
       "    'category': False,\n",
       "    'location_field': False}},\n",
       "  {'ipcr_id': {'data_type': 'int',\n",
       "    'null_allowed': False,\n",
       "    'category': False,\n",
       "    'location_field': False},\n",
       "   'section': {'data_type': 'varchar',\n",
       "    'null_allowed': True,\n",
       "    'category': True,\n",
       "    'location_field': False},\n",
       "   'ipc_class': {'data_type': 'varchar',\n",
       "    'null_allowed': True,\n",
       "    'category': True,\n",
       "    'location_field': False},\n",
       "   'subclass': {'data_type': 'varchar',\n",
       "    'null_allowed': True,\n",
       "    'category': True,\n",
       "    'location_field': False}},\n",
       "  {'id': {'data_type': 'varchar',\n",
       "    'null_allowed': False,\n",
       "    'category': False,\n",
       "    'location_field': False},\n",
       "   'document_number': {'data_type': 'int',\n",
       "    'null_allowed': False,\n",
       "    'category': False,\n",
       "    'location_field': False},\n",
       "   'type': {'data_type': 'varchar',\n",
       "    'null_allowed': True,\n",
       "    'category': True,\n",
       "    'location_field': False},\n",
       "   'application_number': {'data_type': 'varchar',\n",
       "    'null_allowed': False,\n",
       "    'category': False,\n",
       "    'location_field': False},\n",
       "   'country': {'data_type': 'varchar',\n",
       "    'null_allowed': True,\n",
       "    'category': False,\n",
       "    'location_field': True},\n",
       "   'date': {'data_type': 'date',\n",
       "    'null_allowed': True,\n",
       "    'category': False,\n",
       "    'location_field': False},\n",
       "   'year': {'data_type': 'int',\n",
       "    'null_allowed': True,\n",
       "    'category': False,\n",
       "    'location_field': False},\n",
       "   'abstract': {'data_type': 'varchar',\n",
       "    'null_allowed': True,\n",
       "    'category': False,\n",
       "    'location_field': False},\n",
       "   'title': {'data_type': 'varchar',\n",
       "    'null_allowed': True,\n",
       "    'category': False,\n",
       "    'location_field': False},\n",
       "   'kind': {'data_type': 'varchar',\n",
       "    'null_allowed': True,\n",
       "    'category': True,\n",
       "    'location_field': False},\n",
       "   'series_code': {'data_type': 'varchar',\n",
       "    'null_allowed': False,\n",
       "    'category': False,\n",
       "    'location_field': False},\n",
       "   'rule_47_flag': {'data_type': 'varchar',\n",
       "    'null_allowed': False,\n",
       "    'category': False,\n",
       "    'location_field': False}},\n",
       "  {'assignee_id': {'data_type': 'varchar',\n",
       "    'null_allowed': False,\n",
       "    'category': False,\n",
       "    'location_field': False},\n",
       "   'type': {'data_type': 'varchar',\n",
       "    'null_allowed': True,\n",
       "    'category': True,\n",
       "    'location_field': False},\n",
       "   'name_first': {'data_type': 'varchar',\n",
       "    'null_allowed': True,\n",
       "    'category': False,\n",
       "    'location_field': False},\n",
       "   'name_last': {'data_type': 'varchar',\n",
       "    'null_allowed': True,\n",
       "    'category': False,\n",
       "    'location_field': False},\n",
       "   'organization': {'data_type': 'varchar',\n",
       "    'null_allowed': True,\n",
       "    'category': False,\n",
       "    'location_field': False},\n",
       "   'city': {'data_type': 'varchar',\n",
       "    'null_allowed': True,\n",
       "    'category': False,\n",
       "    'location_field': False},\n",
       "   'state': {'data_type': 'varchar',\n",
       "    'null_allowed': True,\n",
       "    'category': True,\n",
       "    'location_field': False},\n",
       "   'country': {'data_type': 'varchar',\n",
       "    'null_allowed': True,\n",
       "    'category': False,\n",
       "    'location_field': True},\n",
       "   'sequence': {'data_type': 'int',\n",
       "    'null_allowed': False,\n",
       "    'category': False,\n",
       "    'location_field': False},\n",
       "   'location_id': {'data_type': 'varchar',\n",
       "    'null_allowed': True,\n",
       "    'category': False,\n",
       "    'location_field': False},\n",
       "   'document_number': {'data_type': 'int',\n",
       "    'null_allowed': False,\n",
       "    'category': False,\n",
       "    'location_field': False}},\n",
       "  {'document_number': {'data_type': 'int',\n",
       "    'null_allowed': False,\n",
       "    'category': False,\n",
       "    'location_field': False},\n",
       "   'sequence': {'data_type': 'int',\n",
       "    'null_allowed': False,\n",
       "    'category': False,\n",
       "    'location_field': False},\n",
       "   'cpc_section': {'data_type': 'varchar',\n",
       "    'null_allowed': True,\n",
       "    'category': False,\n",
       "    'location_field': False},\n",
       "   'cpc_class': {'data_type': 'varchar',\n",
       "    'null_allowed': True,\n",
       "    'category': False,\n",
       "    'location_field': False},\n",
       "   'cpc_subclass': {'data_type': 'varchar',\n",
       "    'null_allowed': True,\n",
       "    'category': False,\n",
       "    'location_field': False},\n",
       "   'cpc_group': {'data_type': 'varchar',\n",
       "    'null_allowed': True,\n",
       "    'category': False,\n",
       "    'location_field': False},\n",
       "   'cpc_type': {'data_type': 'varchar',\n",
       "    'null_allowed': True,\n",
       "    'category': False,\n",
       "    'location_field': False}},\n",
       "  {'document_number': {'data_type': 'int',\n",
       "    'null_allowed': False,\n",
       "    'category': False,\n",
       "    'location_field': False},\n",
       "   'sequence': {'data_type': 'int',\n",
       "    'null_allowed': True,\n",
       "    'category': False,\n",
       "    'location_field': False},\n",
       "   'cpc_section': {'data_type': 'varchar',\n",
       "    'null_allowed': True,\n",
       "    'category': False,\n",
       "    'location_field': False},\n",
       "   'cpc_class': {'data_type': 'varchar',\n",
       "    'null_allowed': True,\n",
       "    'category': False,\n",
       "    'location_field': False},\n",
       "   'cpc_subclass': {'data_type': 'varchar',\n",
       "    'null_allowed': True,\n",
       "    'category': False,\n",
       "    'location_field': False},\n",
       "   'cpc_group': {'data_type': 'varchar',\n",
       "    'null_allowed': True,\n",
       "    'category': False,\n",
       "    'location_field': False},\n",
       "   'cpc_type': {'data_type': 'varchar',\n",
       "    'null_allowed': True,\n",
       "    'category': False,\n",
       "    'location_field': False}},\n",
       "  {'document_number': {'data_type': 'int',\n",
       "    'null_allowed': False,\n",
       "    'category': False,\n",
       "    'location_field': False},\n",
       "   'award_number': {'data_type': 'varchar',\n",
       "    'null_allowed': False,\n",
       "    'category': False,\n",
       "    'location_field': False}},\n",
       "  {'document_number': {'data_type': 'int',\n",
       "    'null_allowed': True,\n",
       "    'category': False,\n",
       "    'location_field': False},\n",
       "   'name': {'data_type': 'varchar',\n",
       "    'null_allowed': True,\n",
       "    'category': False,\n",
       "    'location_field': False},\n",
       "   'level_one': {'data_type': 'varchar',\n",
       "    'null_allowed': True,\n",
       "    'category': False,\n",
       "    'location_field': False},\n",
       "   'level_two': {'data_type': 'varchar',\n",
       "    'null_allowed': True,\n",
       "    'category': False,\n",
       "    'location_field': False},\n",
       "   'level_three': {'data_type': 'varchar',\n",
       "    'null_allowed': True,\n",
       "    'category': False,\n",
       "    'location_field': False}},\n",
       "  {'inventor_id': {'data_type': 'varchar',\n",
       "    'null_allowed': False,\n",
       "    'category': False,\n",
       "    'location_field': False},\n",
       "   'document_number': {'data_type': 'int',\n",
       "    'null_allowed': False,\n",
       "    'category': False,\n",
       "    'location_field': False},\n",
       "   'sequence': {'data_type': 'int',\n",
       "    'null_allowed': False,\n",
       "    'category': False,\n",
       "    'location_field': False},\n",
       "   'name_first': {'data_type': 'varchar',\n",
       "    'null_allowed': True,\n",
       "    'category': False,\n",
       "    'location_field': False},\n",
       "   'name_last': {'data_type': 'varchar',\n",
       "    'null_allowed': True,\n",
       "    'category': False,\n",
       "    'location_field': False},\n",
       "   'city': {'data_type': 'varchar',\n",
       "    'null_allowed': True,\n",
       "    'category': False,\n",
       "    'location_field': False},\n",
       "   'state': {'data_type': 'varchar',\n",
       "    'null_allowed': True,\n",
       "    'category': True,\n",
       "    'location_field': False},\n",
       "   'country': {'data_type': 'varchar',\n",
       "    'null_allowed': True,\n",
       "    'category': False,\n",
       "    'location_field': True},\n",
       "   'location_id': {'data_type': 'varchar',\n",
       "    'null_allowed': True,\n",
       "    'category': False,\n",
       "    'location_field': False}},\n",
       "  {'document_number': {'data_type': 'int',\n",
       "    'null_allowed': False,\n",
       "    'category': False,\n",
       "    'location_field': False},\n",
       "   'ipcr_id': {'data_type': 'int',\n",
       "    'null_allowed': False,\n",
       "    'category': False,\n",
       "    'location_field': False},\n",
       "   'sequence': {'data_type': 'int',\n",
       "    'null_allowed': True,\n",
       "    'category': False,\n",
       "    'location_field': False},\n",
       "   'section': {'data_type': 'varchar',\n",
       "    'null_allowed': True,\n",
       "    'category': True,\n",
       "    'location_field': False},\n",
       "   'class': {'data_type': 'varchar',\n",
       "    'null_allowed': True,\n",
       "    'category': False,\n",
       "    'location_field': False},\n",
       "   'subclass': {'data_type': 'varchar',\n",
       "    'null_allowed': True,\n",
       "    'category': True,\n",
       "    'location_field': False},\n",
       "   'main_group': {'data_type': 'varchar',\n",
       "    'null_allowed': True,\n",
       "    'category': False,\n",
       "    'location_field': False},\n",
       "   'subgroup': {'data_type': 'varchar',\n",
       "    'null_allowed': True,\n",
       "    'category': True,\n",
       "    'location_field': False},\n",
       "   'symbol_position': {'data_type': 'varchar',\n",
       "    'null_allowed': True,\n",
       "    'category': True,\n",
       "    'location_field': False},\n",
       "   'class_value': {'data_type': 'varchar',\n",
       "    'null_allowed': True,\n",
       "    'category': False,\n",
       "    'location_field': False},\n",
       "   'class_data_source': {'data_type': 'varchar',\n",
       "    'null_allowed': True,\n",
       "    'category': False,\n",
       "    'location_field': False},\n",
       "   'action_date': {'data_type': 'date',\n",
       "    'null_allowed': True,\n",
       "    'category': False,\n",
       "    'location_field': False}},\n",
       "  {'document_number': {'data_type': 'int',\n",
       "    'null_allowed': False,\n",
       "    'category': False,\n",
       "    'location_field': False},\n",
       "   'doc_type': {'data_type': 'varchar',\n",
       "    'null_allowed': True,\n",
       "    'category': True,\n",
       "    'location_field': False},\n",
       "   'kind': {'data_type': 'varchar',\n",
       "    'null_allowed': True,\n",
       "    'category': True,\n",
       "    'location_field': False},\n",
       "   'pct_doc_number': {'data_type': 'varchar',\n",
       "    'null_allowed': True,\n",
       "    'category': False,\n",
       "    'location_field': False},\n",
       "   'date': {'data_type': 'date',\n",
       "    'null_allowed': True,\n",
       "    'category': False,\n",
       "    'location_field': False},\n",
       "   'us_371c124_date': {'data_type': 'date',\n",
       "    'null_allowed': True,\n",
       "    'category': False,\n",
       "    'location_field': False},\n",
       "   'us_371c12_date': {'data_type': 'date',\n",
       "    'null_allowed': True,\n",
       "    'category': False,\n",
       "    'location_field': False}},\n",
       "  {'document_number': {'data_type': 'int',\n",
       "    'null_allowed': False,\n",
       "    'category': False,\n",
       "    'location_field': False},\n",
       "   'doc_type': {'data_type': 'varchar',\n",
       "    'null_allowed': True,\n",
       "    'category': True,\n",
       "    'location_field': False},\n",
       "   'relkind': {'data_type': 'varchar',\n",
       "    'null_allowed': True,\n",
       "    'category': True,\n",
       "    'location_field': False},\n",
       "   'related_doc_number': {'data_type': 'varchar',\n",
       "    'null_allowed': True,\n",
       "    'category': False,\n",
       "    'location_field': False},\n",
       "   'country': {'data_type': 'varchar',\n",
       "    'null_allowed': True,\n",
       "    'category': False,\n",
       "    'location_field': True},\n",
       "   'date': {'data_type': 'date',\n",
       "    'null_allowed': True,\n",
       "    'category': False,\n",
       "    'location_field': False}},\n",
       "  {'document_number': {'data_type': 'int',\n",
       "    'null_allowed': False,\n",
       "    'category': False,\n",
       "    'location_field': False},\n",
       "   'sequence': {'data_type': 'int',\n",
       "    'null_allowed': True,\n",
       "    'category': False,\n",
       "    'location_field': False},\n",
       "   'mainclass_id': {'data_type': 'varchar',\n",
       "    'null_allowed': True,\n",
       "    'category': False,\n",
       "    'location_field': False},\n",
       "   'subclass_id': {'data_type': 'varchar',\n",
       "    'null_allowed': True,\n",
       "    'category': False,\n",
       "    'location_field': False}},\n",
       "  {'document_number': {'data_type': 'int',\n",
       "    'null_allowed': True,\n",
       "    'category': False,\n",
       "    'location_field': False},\n",
       "   'field_id': {'data_type': 'int',\n",
       "    'null_allowed': True,\n",
       "    'category': True,\n",
       "    'location_field': False},\n",
       "   'sequence': {'data_type': 'int',\n",
       "    'null_allowed': True,\n",
       "    'category': False,\n",
       "    'location_field': False}},\n",
       "  {'id': {'data_type': 'varchar',\n",
       "    'null_allowed': True,\n",
       "    'category': False,\n",
       "    'location_field': False},\n",
       "   'document_number': {'data_type': 'int',\n",
       "    'null_allowed': True,\n",
       "    'category': False,\n",
       "    'location_field': False},\n",
       "   'text': {'data_type': 'varchar',\n",
       "    'null_allowed': True,\n",
       "    'category': False,\n",
       "    'location_field': False}},\n",
       "  {'id': {'data_type': 'varchar',\n",
       "    'null_allowed': False,\n",
       "    'category': False,\n",
       "    'location_field': False},\n",
       "   'document_number': {'data_type': 'int',\n",
       "    'null_allowed': False,\n",
       "    'category': False,\n",
       "    'location_field': False},\n",
       "   'name_first': {'data_type': 'varchar',\n",
       "    'null_allowed': True,\n",
       "    'category': False,\n",
       "    'location_field': False},\n",
       "   'name_last': {'data_type': 'varchar',\n",
       "    'null_allowed': True,\n",
       "    'category': False,\n",
       "    'location_field': False},\n",
       "   'organization': {'data_type': 'varchar',\n",
       "    'null_allowed': True,\n",
       "    'category': False,\n",
       "    'location_field': False},\n",
       "   'type': {'data_type': 'varchar',\n",
       "    'null_allowed': True,\n",
       "    'category': True,\n",
       "    'location_field': False},\n",
       "   'designation': {'data_type': 'varchar',\n",
       "    'null_allowed': True,\n",
       "    'category': True,\n",
       "    'location_field': False},\n",
       "   'sequence': {'data_type': 'int',\n",
       "    'null_allowed': True,\n",
       "    'category': False,\n",
       "    'location_field': False},\n",
       "   'rawlocation_id': {'data_type': 'varchar',\n",
       "    'null_allowed': True,\n",
       "    'category': False,\n",
       "    'location_field': False},\n",
       "   'city': {'data_type': 'varchar',\n",
       "    'null_allowed': True,\n",
       "    'category': False,\n",
       "    'location_field': False},\n",
       "   'state': {'data_type': 'varchar',\n",
       "    'null_allowed': True,\n",
       "    'category': True,\n",
       "    'location_field': False},\n",
       "   'country': {'data_type': 'varchar',\n",
       "    'null_allowed': True,\n",
       "    'category': False,\n",
       "    'location_field': True},\n",
       "   'version_indicator': {'data_type': 'date',\n",
       "    'null_allowed': True,\n",
       "    'category': False,\n",
       "    'location_field': False}}]}"
      ]
     },
     "execution_count": 320,
     "metadata": {},
     "output_type": "execute_result"
    }
   ],
   "source": [
    "super_dict"
   ]
  },
  {
   "cell_type": "code",
   "execution_count": 321,
   "metadata": {
    "ExecuteTime": {
     "end_time": "2024-03-22T19:39:59.276594Z",
     "start_time": "2024-03-22T19:39:59.272864Z"
    },
    "collapsed": false
   },
   "outputs": [],
   "source": [
    "for i in super_dict.keys():\n",
    "    for j in super_dict[i]:\n",
    "            j[\"TestScripts\"] = [\"ElasticDBTester\"]"
   ]
  },
  {
   "cell_type": "code",
   "execution_count": 323,
   "metadata": {
    "ExecuteTime": {
     "end_time": "2024-03-22T19:39:59.297326Z",
     "start_time": "2024-03-22T19:39:59.284871Z"
    },
    "collapsed": false
   },
   "outputs": [],
   "source": [
    "x2 = x.to_json(indent = 2)"
   ]
  },
  {
   "cell_type": "code",
   "execution_count": 324,
   "metadata": {
    "ExecuteTime": {
     "end_time": "2024-03-22T19:39:59.298014Z",
     "start_time": "2024-03-22T19:39:59.287815Z"
    },
    "collapsed": false
   },
   "outputs": [
    {
     "data": {
      "text/plain": [
       "'{\\n  \"foreign_priority\":{\\n    \"fields\":{\\n      \"document_number\":{\\n        \"data_type\":\"int\",\\n        \"null_allowed\":false,\\n        \"category\":false,\\n        \"location_field\":false\\n      },\\n      \"foreign_doc_number\":{\\n        \"data_type\":\"varchar\",\\n        \"null_allowed\":true,\\n        \"category\":false,\\n        \"location_field\":false\\n      },\\n      \"date\":{\\n        \"data_type\":\"date\",\\n        \"null_allowed\":true,\\n        \"category\":false,\\n        \"location_field\":false\\n      },\\n      \"country\":{\\n        \"data_type\":\"varchar\",\\n        \"null_allowed\":true,\\n        \"category\":false,\\n        \"location_field\":true\\n      },\\n      \"kind\":{\\n        \"data_type\":\"varchar\",\\n        \"null_allowed\":true,\\n        \"category\":false,\\n        \"location_field\":false\\n      },\\n      \"TestScripts\":[\\n        \"ElasticQBTester\"\\n      ]\\n    }\\n  },\\n  \"granted_pregrant_crosswalk\":{\\n    \"fields\":{\\n      \"patent_id\":{\\n        \"data_type\":\"varchar\",\\n        \"null_allowed\":true,\\n        \"category\":false,\\n        \"location_field\":false\\n      },\\n      \"document_number\":{\\n        \"data_type\":\"int\",\\n        \"null_allowed\":true,\\n        \"category\":false,\\n        \"location_field\":false\\n      },\\n      \"application_number\":{\\n        \"data_type\":\"varchar\",\\n        \"null_allowed\":true,\\n        \"category\":false,\\n        \"location_field\":false\\n      },\\n      \"current_pgpub_id_flag\":{\\n        \"data_type\":\"varchar\",\\n        \"null_allowed\":true,\\n        \"category\":false,\\n        \"location_field\":false\\n      },\\n      \"current_patent_id_flag\":{\\n        \"data_type\":\"varchar\",\\n        \"null_allowed\":true,\\n        \"category\":false,\\n        \"location_field\":false\\n      },\\n      \"TestScripts\":[\\n        \"ElasticQBTester\"\\n      ]\\n    }\\n  },\\n  \"ipcr\":{\\n    \"fields\":{\\n      \"ipcr_id\":{\\n        \"data_type\":\"int\",\\n        \"null_allowed\":false,\\n        \"category\":false,\\n        \"location_field\":false\\n      },\\n      \"section\":{\\n        \"data_type\":\"varchar\",\\n        \"null_allowed\":true,\\n        \"category\":true,\\n        \"location_field\":false\\n      },\\n      \"ipc_class\":{\\n        \"data_type\":\"varchar\",\\n        \"null_allowed\":true,\\n        \"category\":true,\\n        \"location_field\":false\\n      },\\n      \"subclass\":{\\n        \"data_type\":\"varchar\",\\n        \"null_allowed\":true,\\n        \"category\":true,\\n        \"location_field\":false\\n      },\\n      \"TestScripts\":[\\n        \"ElasticQBTester\"\\n      ]\\n    }\\n  },\\n  \"publication\":{\\n    \"fields\":{\\n      \"id\":{\\n        \"data_type\":\"varchar\",\\n        \"null_allowed\":false,\\n        \"category\":false,\\n        \"location_field\":false\\n      },\\n      \"document_number\":{\\n        \"data_type\":\"int\",\\n        \"null_allowed\":false,\\n        \"category\":false,\\n        \"location_field\":false\\n      },\\n      \"type\":{\\n        \"data_type\":\"varchar\",\\n        \"null_allowed\":true,\\n        \"category\":true,\\n        \"location_field\":false\\n      },\\n      \"application_number\":{\\n        \"data_type\":\"varchar\",\\n        \"null_allowed\":false,\\n        \"category\":false,\\n        \"location_field\":false\\n      },\\n      \"country\":{\\n        \"data_type\":\"varchar\",\\n        \"null_allowed\":true,\\n        \"category\":false,\\n        \"location_field\":true\\n      },\\n      \"date\":{\\n        \"data_type\":\"date\",\\n        \"null_allowed\":true,\\n        \"category\":false,\\n        \"location_field\":false\\n      },\\n      \"year\":{\\n        \"data_type\":\"int\",\\n        \"null_allowed\":true,\\n        \"category\":false,\\n        \"location_field\":false\\n      },\\n      \"abstract\":{\\n        \"data_type\":\"varchar\",\\n        \"null_allowed\":true,\\n        \"category\":false,\\n        \"location_field\":false\\n      },\\n      \"title\":{\\n        \"data_type\":\"varchar\",\\n        \"null_allowed\":true,\\n        \"category\":false,\\n        \"location_field\":false\\n      },\\n      \"kind\":{\\n        \"data_type\":\"varchar\",\\n        \"null_allowed\":true,\\n        \"category\":true,\\n        \"location_field\":false\\n      },\\n      \"series_code\":{\\n        \"data_type\":\"varchar\",\\n        \"null_allowed\":false,\\n        \"category\":false,\\n        \"location_field\":false\\n      },\\n      \"rule_47_flag\":{\\n        \"data_type\":\"varchar\",\\n        \"null_allowed\":false,\\n        \"category\":false,\\n        \"location_field\":false\\n      },\\n      \"TestScripts\":[\\n        \"ElasticQBTester\"\\n      ]\\n    }\\n  },\\n  \"publication_assignee\":{\\n    \"fields\":{\\n      \"assignee_id\":{\\n        \"data_type\":\"varchar\",\\n        \"null_allowed\":false,\\n        \"category\":false,\\n        \"location_field\":false\\n      },\\n      \"type\":{\\n        \"data_type\":\"varchar\",\\n        \"null_allowed\":true,\\n        \"category\":true,\\n        \"location_field\":false\\n      },\\n      \"name_first\":{\\n        \"data_type\":\"varchar\",\\n        \"null_allowed\":true,\\n        \"category\":false,\\n        \"location_field\":false\\n      },\\n      \"name_last\":{\\n        \"data_type\":\"varchar\",\\n        \"null_allowed\":true,\\n        \"category\":false,\\n        \"location_field\":false\\n      },\\n      \"organization\":{\\n        \"data_type\":\"varchar\",\\n        \"null_allowed\":true,\\n        \"category\":false,\\n        \"location_field\":false\\n      },\\n      \"city\":{\\n        \"data_type\":\"varchar\",\\n        \"null_allowed\":true,\\n        \"category\":false,\\n        \"location_field\":false\\n      },\\n      \"state\":{\\n        \"data_type\":\"varchar\",\\n        \"null_allowed\":true,\\n        \"category\":true,\\n        \"location_field\":false\\n      },\\n      \"country\":{\\n        \"data_type\":\"varchar\",\\n        \"null_allowed\":true,\\n        \"category\":false,\\n        \"location_field\":true\\n      },\\n      \"sequence\":{\\n        \"data_type\":\"int\",\\n        \"null_allowed\":false,\\n        \"category\":false,\\n        \"location_field\":false\\n      },\\n      \"location_id\":{\\n        \"data_type\":\"varchar\",\\n        \"null_allowed\":true,\\n        \"category\":false,\\n        \"location_field\":false\\n      },\\n      \"document_number\":{\\n        \"data_type\":\"int\",\\n        \"null_allowed\":false,\\n        \"category\":false,\\n        \"location_field\":false\\n      },\\n      \"TestScripts\":[\\n        \"ElasticQBTester\"\\n      ]\\n    }\\n  },\\n  \"publication_cpc_at_issue\":{\\n    \"fields\":{\\n      \"document_number\":{\\n        \"data_type\":\"int\",\\n        \"null_allowed\":false,\\n        \"category\":false,\\n        \"location_field\":false\\n      },\\n      \"sequence\":{\\n        \"data_type\":\"int\",\\n        \"null_allowed\":false,\\n        \"category\":false,\\n        \"location_field\":false\\n      },\\n      \"cpc_section\":{\\n        \"data_type\":\"varchar\",\\n        \"null_allowed\":true,\\n        \"category\":false,\\n        \"location_field\":false\\n      },\\n      \"cpc_class\":{\\n        \"data_type\":\"varchar\",\\n        \"null_allowed\":true,\\n        \"category\":false,\\n        \"location_field\":false\\n      },\\n      \"cpc_subclass\":{\\n        \"data_type\":\"varchar\",\\n        \"null_allowed\":true,\\n        \"category\":false,\\n        \"location_field\":false\\n      },\\n      \"cpc_group\":{\\n        \"data_type\":\"varchar\",\\n        \"null_allowed\":true,\\n        \"category\":false,\\n        \"location_field\":false\\n      },\\n      \"cpc_type\":{\\n        \"data_type\":\"varchar\",\\n        \"null_allowed\":true,\\n        \"category\":false,\\n        \"location_field\":false\\n      },\\n      \"TestScripts\":[\\n        \"ElasticQBTester\"\\n      ]\\n    }\\n  },\\n  \"publication_cpc_current\":{\\n    \"fields\":{\\n      \"document_number\":{\\n        \"data_type\":\"int\",\\n        \"null_allowed\":false,\\n        \"category\":false,\\n        \"location_field\":false\\n      },\\n      \"sequence\":{\\n        \"data_type\":\"int\",\\n        \"null_allowed\":true,\\n        \"category\":false,\\n        \"location_field\":false\\n      },\\n      \"cpc_section\":{\\n        \"data_type\":\"varchar\",\\n        \"null_allowed\":true,\\n        \"category\":false,\\n        \"location_field\":false\\n      },\\n      \"cpc_class\":{\\n        \"data_type\":\"varchar\",\\n        \"null_allowed\":true,\\n        \"category\":false,\\n        \"location_field\":false\\n      },\\n      \"cpc_subclass\":{\\n        \"data_type\":\"varchar\",\\n        \"null_allowed\":true,\\n        \"category\":false,\\n        \"location_field\":false\\n      },\\n      \"cpc_group\":{\\n        \"data_type\":\"varchar\",\\n        \"null_allowed\":true,\\n        \"category\":false,\\n        \"location_field\":false\\n      },\\n      \"cpc_type\":{\\n        \"data_type\":\"varchar\",\\n        \"null_allowed\":true,\\n        \"category\":false,\\n        \"location_field\":false\\n      },\\n      \"TestScripts\":[\\n        \"ElasticQBTester\"\\n      ]\\n    }\\n  },\\n  \"publication_gov_contract\":{\\n    \"fields\":{\\n      \"document_number\":{\\n        \"data_type\":\"int\",\\n        \"null_allowed\":false,\\n        \"category\":false,\\n        \"location_field\":false\\n      },\\n      \"award_number\":{\\n        \"data_type\":\"varchar\",\\n        \"null_allowed\":false,\\n        \"category\":false,\\n        \"location_field\":false\\n      },\\n      \"TestScripts\":[\\n        \"ElasticQBTester\"\\n      ]\\n    }\\n  },\\n  \"publication_gov_interest_organizations\":{\\n    \"fields\":{\\n      \"document_number\":{\\n        \"data_type\":\"int\",\\n        \"null_allowed\":true,\\n        \"category\":false,\\n        \"location_field\":false\\n      },\\n      \"name\":{\\n        \"data_type\":\"varchar\",\\n        \"null_allowed\":true,\\n        \"category\":false,\\n        \"location_field\":false\\n      },\\n      \"level_one\":{\\n        \"data_type\":\"varchar\",\\n        \"null_allowed\":true,\\n        \"category\":false,\\n        \"location_field\":false\\n      },\\n      \"level_two\":{\\n        \"data_type\":\"varchar\",\\n        \"null_allowed\":true,\\n        \"category\":false,\\n        \"location_field\":false\\n      },\\n      \"level_three\":{\\n        \"data_type\":\"varchar\",\\n        \"null_allowed\":true,\\n        \"category\":false,\\n        \"location_field\":false\\n      },\\n      \"TestScripts\":[\\n        \"ElasticQBTester\"\\n      ]\\n    }\\n  },\\n  \"publication_inventor\":{\\n    \"fields\":{\\n      \"inventor_id\":{\\n        \"data_type\":\"varchar\",\\n        \"null_allowed\":false,\\n        \"category\":false,\\n        \"location_field\":false\\n      },\\n      \"document_number\":{\\n        \"data_type\":\"int\",\\n        \"null_allowed\":false,\\n        \"category\":false,\\n        \"location_field\":false\\n      },\\n      \"sequence\":{\\n        \"data_type\":\"int\",\\n        \"null_allowed\":false,\\n        \"category\":false,\\n        \"location_field\":false\\n      },\\n      \"name_first\":{\\n        \"data_type\":\"varchar\",\\n        \"null_allowed\":true,\\n        \"category\":false,\\n        \"location_field\":false\\n      },\\n      \"name_last\":{\\n        \"data_type\":\"varchar\",\\n        \"null_allowed\":true,\\n        \"category\":false,\\n        \"location_field\":false\\n      },\\n      \"city\":{\\n        \"data_type\":\"varchar\",\\n        \"null_allowed\":true,\\n        \"category\":false,\\n        \"location_field\":false\\n      },\\n      \"state\":{\\n        \"data_type\":\"varchar\",\\n        \"null_allowed\":true,\\n        \"category\":true,\\n        \"location_field\":false\\n      },\\n      \"country\":{\\n        \"data_type\":\"varchar\",\\n        \"null_allowed\":true,\\n        \"category\":false,\\n        \"location_field\":true\\n      },\\n      \"location_id\":{\\n        \"data_type\":\"varchar\",\\n        \"null_allowed\":true,\\n        \"category\":false,\\n        \"location_field\":false\\n      },\\n      \"TestScripts\":[\\n        \"ElasticQBTester\"\\n      ]\\n    }\\n  },\\n  \"publication_ipcr\":{\\n    \"fields\":{\\n      \"document_number\":{\\n        \"data_type\":\"int\",\\n        \"null_allowed\":false,\\n        \"category\":false,\\n        \"location_field\":false\\n      },\\n      \"ipcr_id\":{\\n        \"data_type\":\"int\",\\n        \"null_allowed\":false,\\n        \"category\":false,\\n        \"location_field\":false\\n      },\\n      \"sequence\":{\\n        \"data_type\":\"int\",\\n        \"null_allowed\":true,\\n        \"category\":false,\\n        \"location_field\":false\\n      },\\n      \"section\":{\\n        \"data_type\":\"varchar\",\\n        \"null_allowed\":true,\\n        \"category\":true,\\n        \"location_field\":false\\n      },\\n      \"class\":{\\n        \"data_type\":\"varchar\",\\n        \"null_allowed\":true,\\n        \"category\":false,\\n        \"location_field\":false\\n      },\\n      \"subclass\":{\\n        \"data_type\":\"varchar\",\\n        \"null_allowed\":true,\\n        \"category\":true,\\n        \"location_field\":false\\n      },\\n      \"main_group\":{\\n        \"data_type\":\"varchar\",\\n        \"null_allowed\":true,\\n        \"category\":false,\\n        \"location_field\":false\\n      },\\n      \"subgroup\":{\\n        \"data_type\":\"varchar\",\\n        \"null_allowed\":true,\\n        \"category\":true,\\n        \"location_field\":false\\n      },\\n      \"symbol_position\":{\\n        \"data_type\":\"varchar\",\\n        \"null_allowed\":true,\\n        \"category\":true,\\n        \"location_field\":false\\n      },\\n      \"class_value\":{\\n        \"data_type\":\"varchar\",\\n        \"null_allowed\":true,\\n        \"category\":false,\\n        \"location_field\":false\\n      },\\n      \"class_data_source\":{\\n        \"data_type\":\"varchar\",\\n        \"null_allowed\":true,\\n        \"category\":false,\\n        \"location_field\":false\\n      },\\n      \"action_date\":{\\n        \"data_type\":\"date\",\\n        \"null_allowed\":true,\\n        \"category\":false,\\n        \"location_field\":false\\n      },\\n      \"TestScripts\":[\\n        \"ElasticQBTester\"\\n      ]\\n    }\\n  },\\n  \"publication_pct_data\":{\\n    \"fields\":{\\n      \"document_number\":{\\n        \"data_type\":\"int\",\\n        \"null_allowed\":false,\\n        \"category\":false,\\n        \"location_field\":false\\n      },\\n      \"doc_type\":{\\n        \"data_type\":\"varchar\",\\n        \"null_allowed\":true,\\n        \"category\":true,\\n        \"location_field\":false\\n      },\\n      \"kind\":{\\n        \"data_type\":\"varchar\",\\n        \"null_allowed\":true,\\n        \"category\":true,\\n        \"location_field\":false\\n      },\\n      \"pct_doc_number\":{\\n        \"data_type\":\"varchar\",\\n        \"null_allowed\":true,\\n        \"category\":false,\\n        \"location_field\":false\\n      },\\n      \"date\":{\\n        \"data_type\":\"date\",\\n        \"null_allowed\":true,\\n        \"category\":false,\\n        \"location_field\":false\\n      },\\n      \"us_371c124_date\":{\\n        \"data_type\":\"date\",\\n        \"null_allowed\":true,\\n        \"category\":false,\\n        \"location_field\":false\\n      },\\n      \"us_371c12_date\":{\\n        \"data_type\":\"date\",\\n        \"null_allowed\":true,\\n        \"category\":false,\\n        \"location_field\":false\\n      },\\n      \"TestScripts\":[\\n        \"ElasticQBTester\"\\n      ]\\n    }\\n  },\\n  \"publication_us_related_documents\":{\\n    \"fields\":{\\n      \"document_number\":{\\n        \"data_type\":\"int\",\\n        \"null_allowed\":false,\\n        \"category\":false,\\n        \"location_field\":false\\n      },\\n      \"doc_type\":{\\n        \"data_type\":\"varchar\",\\n        \"null_allowed\":true,\\n        \"category\":true,\\n        \"location_field\":false\\n      },\\n      \"relkind\":{\\n        \"data_type\":\"varchar\",\\n        \"null_allowed\":true,\\n        \"category\":true,\\n        \"location_field\":false\\n      },\\n      \"related_doc_number\":{\\n        \"data_type\":\"varchar\",\\n        \"null_allowed\":true,\\n        \"category\":false,\\n        \"location_field\":false\\n      },\\n      \"country\":{\\n        \"data_type\":\"varchar\",\\n        \"null_allowed\":true,\\n        \"category\":false,\\n        \"location_field\":true\\n      },\\n      \"date\":{\\n        \"data_type\":\"date\",\\n        \"null_allowed\":true,\\n        \"category\":false,\\n        \"location_field\":false\\n      },\\n      \"TestScripts\":[\\n        \"ElasticQBTester\"\\n      ]\\n    }\\n  },\\n  \"publication_uspc_at_issue\":{\\n    \"fields\":{\\n      \"document_number\":{\\n        \"data_type\":\"int\",\\n        \"null_allowed\":false,\\n        \"category\":false,\\n        \"location_field\":false\\n      },\\n      \"sequence\":{\\n        \"data_type\":\"int\",\\n        \"null_allowed\":true,\\n        \"category\":false,\\n        \"location_field\":false\\n      },\\n      \"mainclass_id\":{\\n        \"data_type\":\"varchar\",\\n        \"null_allowed\":true,\\n        \"category\":false,\\n        \"location_field\":false\\n      },\\n      \"subclass_id\":{\\n        \"data_type\":\"varchar\",\\n        \"null_allowed\":true,\\n        \"category\":false,\\n        \"location_field\":false\\n      },\\n      \"TestScripts\":[\\n        \"ElasticQBTester\"\\n      ]\\n    }\\n  },\\n  \"publication_wipo\":{\\n    \"fields\":{\\n      \"document_number\":{\\n        \"data_type\":\"int\",\\n        \"null_allowed\":true,\\n        \"category\":false,\\n        \"location_field\":false\\n      },\\n      \"field_id\":{\\n        \"data_type\":\"int\",\\n        \"null_allowed\":true,\\n        \"category\":true,\\n        \"location_field\":false\\n      },\\n      \"sequence\":{\\n        \"data_type\":\"int\",\\n        \"null_allowed\":true,\\n        \"category\":false,\\n        \"location_field\":false\\n      },\\n      \"TestScripts\":[\\n        \"ElasticQBTester\"\\n      ]\\n    }\\n  },\\n  \"rel_app_text\":{\\n    \"fields\":{\\n      \"id\":{\\n        \"data_type\":\"varchar\",\\n        \"null_allowed\":true,\\n        \"category\":false,\\n        \"location_field\":false\\n      },\\n      \"document_number\":{\\n        \"data_type\":\"int\",\\n        \"null_allowed\":true,\\n        \"category\":false,\\n        \"location_field\":false\\n      },\\n      \"text\":{\\n        \"data_type\":\"varchar\",\\n        \"null_allowed\":true,\\n        \"category\":false,\\n        \"location_field\":false\\n      },\\n      \"TestScripts\":[\\n        \"ElasticQBTester\"\\n      ]\\n    }\\n  },\\n  \"us_parties\":{\\n    \"fields\":{\\n      \"id\":{\\n        \"data_type\":\"varchar\",\\n        \"null_allowed\":false,\\n        \"category\":false,\\n        \"location_field\":false\\n      },\\n      \"document_number\":{\\n        \"data_type\":\"int\",\\n        \"null_allowed\":false,\\n        \"category\":false,\\n        \"location_field\":false\\n      },\\n      \"name_first\":{\\n        \"data_type\":\"varchar\",\\n        \"null_allowed\":true,\\n        \"category\":false,\\n        \"location_field\":false\\n      },\\n      \"name_last\":{\\n        \"data_type\":\"varchar\",\\n        \"null_allowed\":true,\\n        \"category\":false,\\n        \"location_field\":false\\n      },\\n      \"organization\":{\\n        \"data_type\":\"varchar\",\\n        \"null_allowed\":true,\\n        \"category\":false,\\n        \"location_field\":false\\n      },\\n      \"type\":{\\n        \"data_type\":\"varchar\",\\n        \"null_allowed\":true,\\n        \"category\":true,\\n        \"location_field\":false\\n      },\\n      \"designation\":{\\n        \"data_type\":\"varchar\",\\n        \"null_allowed\":true,\\n        \"category\":true,\\n        \"location_field\":false\\n      },\\n      \"sequence\":{\\n        \"data_type\":\"int\",\\n        \"null_allowed\":true,\\n        \"category\":false,\\n        \"location_field\":false\\n      },\\n      \"rawlocation_id\":{\\n        \"data_type\":\"varchar\",\\n        \"null_allowed\":true,\\n        \"category\":false,\\n        \"location_field\":false\\n      },\\n      \"city\":{\\n        \"data_type\":\"varchar\",\\n        \"null_allowed\":true,\\n        \"category\":false,\\n        \"location_field\":false\\n      },\\n      \"state\":{\\n        \"data_type\":\"varchar\",\\n        \"null_allowed\":true,\\n        \"category\":true,\\n        \"location_field\":false\\n      },\\n      \"country\":{\\n        \"data_type\":\"varchar\",\\n        \"null_allowed\":true,\\n        \"category\":false,\\n        \"location_field\":true\\n      },\\n      \"version_indicator\":{\\n        \"data_type\":\"date\",\\n        \"null_allowed\":true,\\n        \"category\":false,\\n        \"location_field\":false\\n      },\\n      \"TestScripts\":[\\n        \"ElasticQBTester\"\\n      ]\\n    }\\n  }\\n}'"
      ]
     },
     "execution_count": 324,
     "metadata": {},
     "output_type": "execute_result"
    }
   ],
   "source": [
    "x2"
   ]
  },
  {
   "cell_type": "code",
   "execution_count": 346,
   "metadata": {
    "ExecuteTime": {
     "end_time": "2024-03-22T19:51:43.605052Z",
     "start_time": "2024-03-22T19:51:43.593398Z"
    },
    "collapsed": false
   },
   "outputs": [
    {
     "name": "stdout",
     "output_type": "stream",
     "text": [
      "JSON data has been saved to ../resources/table_config_elasticsearch_pgpub2.json\n"
     ]
    }
   ],
   "source": [
    "# Define the file path where you want to save the JSON file\n",
    "file_path = '../resources/table_config_elasticsearch_pgpub.json'\n",
    "\n",
    "# Write JSON data to a new file\n",
    "with open(file_path, 'w') as f:\n",
    "    f.write(x2)\n",
    "\n",
    "print(f\"JSON data has been saved to {file_path}\")"
   ]
  },
  {
   "cell_type": "code",
   "execution_count": 326,
   "metadata": {
    "ExecuteTime": {
     "end_time": "2024-03-22T19:39:59.298210Z",
     "start_time": "2024-03-22T19:39:59.293681Z"
    },
    "collapsed": false
   },
   "outputs": [
    {
     "data": {
      "text/plain": [
       "'/Users/gchickering/offline_Github/PatentsView/PatentsView-DB/QA'"
      ]
     },
     "execution_count": 326,
     "metadata": {},
     "output_type": "execute_result"
    }
   ],
   "source": [
    "pwd()"
   ]
  },
  {
   "cell_type": "code",
   "execution_count": 326,
   "metadata": {
    "ExecuteTime": {
     "end_time": "2024-03-22T19:39:59.301128Z",
     "start_time": "2024-03-22T19:39:59.295979Z"
    },
    "collapsed": false
   },
   "outputs": [],
   "source": []
  }
 ],
 "metadata": {
  "kernelspec": {
   "display_name": "patentsview-vr",
   "language": "python",
   "name": "python3"
  },
  "language_info": {
   "codemirror_mode": {
    "name": "ipython",
    "version": 3
   },
   "file_extension": ".py",
   "mimetype": "text/x-python",
   "name": "python",
   "nbconvert_exporter": "python",
   "pygments_lexer": "ipython3",
   "version": "3.11.0"
  }
 },
 "nbformat": 4,
 "nbformat_minor": 2
}
