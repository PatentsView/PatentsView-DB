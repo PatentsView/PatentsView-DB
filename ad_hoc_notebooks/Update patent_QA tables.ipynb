{
 "cells": [
  {
   "cell_type": "code",
   "execution_count": 1,
   "id": "76d1f6a1",
   "metadata": {},
   "outputs": [],
   "source": [
    "import os\n",
    "import pymysql\n",
    "import datetime\n",
    "import pandas as pd\n",
    "from sqlalchemy import create_engine"
   ]
  },
  {
   "cell_type": "code",
   "execution_count": 2,
   "id": "34070e5e",
   "metadata": {},
   "outputs": [],
   "source": [
    "os.environ['PACKAGE_HOME']=\"/Users/bcard/OneDrive - American Institutes for Research in the Behavioral Sciences/projects/patentsview/PatentsView-DB\"\n"
   ]
  },
  {
   "cell_type": "code",
   "execution_count": 3,
   "id": "0f88c255",
   "metadata": {},
   "outputs": [
    {
     "data": {
      "text/plain": [
       "'/Users/bcard/Library/CloudStorage/OneDrive-AmericanInstitutesforResearchintheBehavioralSciences/projects/patentsview/PatentsView-DB/ad_hoc_notebooks'"
      ]
     },
     "execution_count": 3,
     "metadata": {},
     "output_type": "execute_result"
    }
   ],
   "source": [
    "pwd"
   ]
  },
  {
   "cell_type": "code",
   "execution_count": 4,
   "id": "a36bc404",
   "metadata": {},
   "outputs": [
    {
     "name": "stdout",
     "output_type": "stream",
     "text": [
      "/Users/bcard/Library/CloudStorage/OneDrive-AmericanInstitutesforResearchintheBehavioralSciences/projects/patentsview/PatentsView-DB\n"
     ]
    }
   ],
   "source": [
    "cd .."
   ]
  },
  {
   "cell_type": "code",
   "execution_count": 5,
   "id": "bb56d46d",
   "metadata": {},
   "outputs": [
    {
     "name": "stdout",
     "output_type": "stream",
     "text": [
      "[Errno 2] No such file or directory: 'OneDrive - American Institutes for Research in the Behavioral Sciences'\n",
      "/Users/bcard/Library/CloudStorage/OneDrive-AmericanInstitutesforResearchintheBehavioralSciences/projects/patentsview/PatentsView-DB\n"
     ]
    }
   ],
   "source": [
    "cd OneDrive - American Institutes for Research in the Behavioral Sciences"
   ]
  },
  {
   "cell_type": "code",
   "execution_count": 6,
   "id": "ffa26710",
   "metadata": {
    "scrolled": true
   },
   "outputs": [
    {
     "name": "stdout",
     "output_type": "stream",
     "text": [
      "[Errno 2] No such file or directory: 'projects/patentsview/PatentsView-DB'\n",
      "/Users/bcard/Library/CloudStorage/OneDrive-AmericanInstitutesforResearchintheBehavioralSciences/projects/patentsview/PatentsView-DB\n"
     ]
    }
   ],
   "source": [
    "cd projects/patentsview/PatentsView-DB"
   ]
  },
  {
   "cell_type": "code",
   "execution_count": 7,
   "id": "b150f301",
   "metadata": {},
   "outputs": [
    {
     "data": {
      "text/plain": [
       "'/Users/bcard/Library/CloudStorage/OneDrive-AmericanInstitutesforResearchintheBehavioralSciences/projects/patentsview/PatentsView-DB'"
      ]
     },
     "execution_count": 7,
     "metadata": {},
     "output_type": "execute_result"
    }
   ],
   "source": [
    "pwd"
   ]
  },
  {
   "cell_type": "markdown",
   "id": "3d107f49",
   "metadata": {},
   "source": [
    "# SET UP"
   ]
  },
  {
   "cell_type": "code",
   "execution_count": 8,
   "id": "500f86d2",
   "metadata": {
    "ExecuteTime": {
     "end_time": "2021-12-15T18:48:26.908237Z",
     "start_time": "2021-12-15T18:48:26.903306Z"
    }
   },
   "outputs": [],
   "source": [
    "from lib.configuration import get_config, get_connection_string, get_current_config\n",
    "\n",
    "\n",
    "c=get_config()"
   ]
  },
  {
   "cell_type": "code",
   "execution_count": 9,
   "id": "138d51d7",
   "metadata": {},
   "outputs": [],
   "source": [
    "config = get_current_config('granted_patent', **{\n",
    "        \"execution_date\": datetime.date(2021, 4, 6)\n",
    "    })"
   ]
  },
  {
   "cell_type": "code",
   "execution_count": 10,
   "id": "683eefd2",
   "metadata": {
    "ExecuteTime": {
     "end_time": "2021-12-15T18:49:11.352415Z",
     "start_time": "2021-12-15T18:49:11.349175Z"
    }
   },
   "outputs": [],
   "source": [
    "prod_connection_string=get_connection_string(config, database='qa_database', connection='APP_DATABASE_SETUP')\n",
    "\n"
   ]
  },
  {
   "cell_type": "markdown",
   "id": "3e857942",
   "metadata": {},
   "source": [
    "# GET ROW COUNT FOR PRODUCTION TABLES"
   ]
  },
  {
   "cell_type": "code",
   "execution_count": 15,
   "id": "9b1a4cd0",
   "metadata": {},
   "outputs": [],
   "source": [
    "tabs = query_for_all_tables_in_db(prod_connection_string, 'patent_QA')"
   ]
  },
  {
   "cell_type": "code",
   "execution_count": 16,
   "id": "09a84274",
   "metadata": {},
   "outputs": [
    {
     "data": {
      "text/html": [
       "<div>\n",
       "<style scoped>\n",
       "    .dataframe tbody tr th:only-of-type {\n",
       "        vertical-align: middle;\n",
       "    }\n",
       "\n",
       "    .dataframe tbody tr th {\n",
       "        vertical-align: top;\n",
       "    }\n",
       "\n",
       "    .dataframe thead th {\n",
       "        text-align: right;\n",
       "    }\n",
       "</style>\n",
       "<table border=\"1\" class=\"dataframe\">\n",
       "  <thead>\n",
       "    <tr style=\"text-align: right;\">\n",
       "      <th></th>\n",
       "      <th>TABLE_NAME</th>\n",
       "    </tr>\n",
       "  </thead>\n",
       "  <tbody>\n",
       "    <tr>\n",
       "      <th>0</th>\n",
       "      <td>DataMonitor_LocDisambig</td>\n",
       "    </tr>\n",
       "    <tr>\n",
       "      <th>1</th>\n",
       "      <td>DataMonitor_categorycount</td>\n",
       "    </tr>\n",
       "    <tr>\n",
       "      <th>2</th>\n",
       "      <td>DataMonitor_count</td>\n",
       "    </tr>\n",
       "    <tr>\n",
       "      <th>3</th>\n",
       "      <td>DataMonitor_distinctidcount</td>\n",
       "    </tr>\n",
       "    <tr>\n",
       "      <th>4</th>\n",
       "      <td>DataMonitor_floatingentitycount</td>\n",
       "    </tr>\n",
       "    <tr>\n",
       "      <th>5</th>\n",
       "      <td>DataMonitor_floatingpatentcount</td>\n",
       "    </tr>\n",
       "    <tr>\n",
       "      <th>6</th>\n",
       "      <td>DataMonitor_govtinterestsampler</td>\n",
       "    </tr>\n",
       "    <tr>\n",
       "      <th>7</th>\n",
       "      <td>DataMonitor_locationcount</td>\n",
       "    </tr>\n",
       "    <tr>\n",
       "      <th>8</th>\n",
       "      <td>DataMonitor_maxtextlength</td>\n",
       "    </tr>\n",
       "    <tr>\n",
       "      <th>9</th>\n",
       "      <td>DataMonitor_nullcount</td>\n",
       "    </tr>\n",
       "    <tr>\n",
       "      <th>10</th>\n",
       "      <td>DataMonitor_patentwithdrawncount</td>\n",
       "    </tr>\n",
       "    <tr>\n",
       "      <th>11</th>\n",
       "      <td>DataMonitor_patentyearlycount</td>\n",
       "    </tr>\n",
       "    <tr>\n",
       "      <th>12</th>\n",
       "      <td>DataMonitor_prefixedentitycount</td>\n",
       "    </tr>\n",
       "    <tr>\n",
       "      <th>13</th>\n",
       "      <td>DataMonitor_topnentities</td>\n",
       "    </tr>\n",
       "    <tr>\n",
       "      <th>14</th>\n",
       "      <td>_temp_upload_DataMonitor_floatingpatentcount</td>\n",
       "    </tr>\n",
       "    <tr>\n",
       "      <th>15</th>\n",
       "      <td>_temp_upload_category</td>\n",
       "    </tr>\n",
       "    <tr>\n",
       "      <th>16</th>\n",
       "      <td>auth_group</td>\n",
       "    </tr>\n",
       "    <tr>\n",
       "      <th>17</th>\n",
       "      <td>auth_group_permissions</td>\n",
       "    </tr>\n",
       "    <tr>\n",
       "      <th>18</th>\n",
       "      <td>auth_permission</td>\n",
       "    </tr>\n",
       "    <tr>\n",
       "      <th>19</th>\n",
       "      <td>auth_user</td>\n",
       "    </tr>\n",
       "    <tr>\n",
       "      <th>20</th>\n",
       "      <td>auth_user_groups</td>\n",
       "    </tr>\n",
       "    <tr>\n",
       "      <th>21</th>\n",
       "      <td>auth_user_user_permissions</td>\n",
       "    </tr>\n",
       "    <tr>\n",
       "      <th>22</th>\n",
       "      <td>counts</td>\n",
       "    </tr>\n",
       "    <tr>\n",
       "      <th>23</th>\n",
       "      <td>django_admin_log</td>\n",
       "    </tr>\n",
       "    <tr>\n",
       "      <th>24</th>\n",
       "      <td>django_content_type</td>\n",
       "    </tr>\n",
       "    <tr>\n",
       "      <th>25</th>\n",
       "      <td>django_migrations</td>\n",
       "    </tr>\n",
       "    <tr>\n",
       "      <th>26</th>\n",
       "      <td>django_session</td>\n",
       "    </tr>\n",
       "    <tr>\n",
       "      <th>27</th>\n",
       "      <td>null_counts</td>\n",
       "    </tr>\n",
       "    <tr>\n",
       "      <th>28</th>\n",
       "      <td>social_auth_association</td>\n",
       "    </tr>\n",
       "    <tr>\n",
       "      <th>29</th>\n",
       "      <td>social_auth_code</td>\n",
       "    </tr>\n",
       "    <tr>\n",
       "      <th>30</th>\n",
       "      <td>social_auth_nonce</td>\n",
       "    </tr>\n",
       "    <tr>\n",
       "      <th>31</th>\n",
       "      <td>social_auth_partial</td>\n",
       "    </tr>\n",
       "    <tr>\n",
       "      <th>32</th>\n",
       "      <td>social_auth_usersocialauth</td>\n",
       "    </tr>\n",
       "  </tbody>\n",
       "</table>\n",
       "</div>"
      ],
      "text/plain": [
       "                                      TABLE_NAME\n",
       "0                        DataMonitor_LocDisambig\n",
       "1                      DataMonitor_categorycount\n",
       "2                              DataMonitor_count\n",
       "3                    DataMonitor_distinctidcount\n",
       "4                DataMonitor_floatingentitycount\n",
       "5                DataMonitor_floatingpatentcount\n",
       "6                DataMonitor_govtinterestsampler\n",
       "7                      DataMonitor_locationcount\n",
       "8                      DataMonitor_maxtextlength\n",
       "9                          DataMonitor_nullcount\n",
       "10              DataMonitor_patentwithdrawncount\n",
       "11                 DataMonitor_patentyearlycount\n",
       "12               DataMonitor_prefixedentitycount\n",
       "13                      DataMonitor_topnentities\n",
       "14  _temp_upload_DataMonitor_floatingpatentcount\n",
       "15                         _temp_upload_category\n",
       "16                                    auth_group\n",
       "17                        auth_group_permissions\n",
       "18                               auth_permission\n",
       "19                                     auth_user\n",
       "20                              auth_user_groups\n",
       "21                    auth_user_user_permissions\n",
       "22                                        counts\n",
       "23                              django_admin_log\n",
       "24                           django_content_type\n",
       "25                             django_migrations\n",
       "26                                django_session\n",
       "27                                   null_counts\n",
       "28                       social_auth_association\n",
       "29                              social_auth_code\n",
       "30                             social_auth_nonce\n",
       "31                           social_auth_partial\n",
       "32                    social_auth_usersocialauth"
      ]
     },
     "execution_count": 16,
     "metadata": {},
     "output_type": "execute_result"
    }
   ],
   "source": [
    "tabs"
   ]
  },
  {
   "cell_type": "code",
   "execution_count": 80,
   "id": "4204ad57",
   "metadata": {},
   "outputs": [],
   "source": [
    "table_list = list(tabs[\"TABLE_NAME\"])"
   ]
  },
  {
   "cell_type": "code",
   "execution_count": 48,
   "id": "a131f643",
   "metadata": {},
   "outputs": [
    {
     "data": {
      "text/plain": [
       "'DataMonitor'"
      ]
     },
     "execution_count": 48,
     "metadata": {},
     "output_type": "execute_result"
    }
   ],
   "source": [
    "table_list[0][:11]"
   ]
  },
  {
   "cell_type": "code",
   "execution_count": 81,
   "id": "5c0743ea",
   "metadata": {},
   "outputs": [
    {
     "data": {
      "text/plain": [
       "['DataMonitor_LocDisambig',\n",
       " 'DataMonitor_categorycount',\n",
       " 'DataMonitor_count',\n",
       " 'DataMonitor_distinctidcount',\n",
       " 'DataMonitor_floatingentitycount',\n",
       " 'DataMonitor_floatingpatentcount',\n",
       " 'DataMonitor_govtinterestsampler',\n",
       " 'DataMonitor_locationcount',\n",
       " 'DataMonitor_maxtextlength',\n",
       " 'DataMonitor_nullcount',\n",
       " 'DataMonitor_patentwithdrawncount',\n",
       " 'DataMonitor_patentyearlycount',\n",
       " 'DataMonitor_prefixedentitycount',\n",
       " 'DataMonitor_topnentities',\n",
       " '_temp_upload_DataMonitor_floatingpatentcount',\n",
       " '_temp_upload_category',\n",
       " 'auth_group',\n",
       " 'auth_group_permissions',\n",
       " 'auth_permission',\n",
       " 'auth_user',\n",
       " 'auth_user_groups',\n",
       " 'auth_user_user_permissions',\n",
       " 'counts',\n",
       " 'django_admin_log',\n",
       " 'django_content_type',\n",
       " 'django_migrations',\n",
       " 'django_session',\n",
       " 'null_counts',\n",
       " 'social_auth_association',\n",
       " 'social_auth_code',\n",
       " 'social_auth_nonce',\n",
       " 'social_auth_partial',\n",
       " 'social_auth_usersocialauth']"
      ]
     },
     "execution_count": 81,
     "metadata": {},
     "output_type": "execute_result"
    }
   ],
   "source": [
    "table_list"
   ]
  },
  {
   "cell_type": "code",
   "execution_count": 88,
   "id": "bbd2607a",
   "metadata": {},
   "outputs": [],
   "source": [
    "new = [i for i in table_list if i[:11] == 'DataMonitor']"
   ]
  },
  {
   "cell_type": "code",
   "execution_count": 91,
   "id": "b85346b5",
   "metadata": {},
   "outputs": [
    {
     "data": {
      "text/plain": [
       "['DataMonitor_categorycount',\n",
       " 'DataMonitor_count',\n",
       " 'DataMonitor_distinctidcount',\n",
       " 'DataMonitor_floatingentitycount',\n",
       " 'DataMonitor_floatingpatentcount',\n",
       " 'DataMonitor_govtinterestsampler',\n",
       " 'DataMonitor_locationcount',\n",
       " 'DataMonitor_maxtextlength',\n",
       " 'DataMonitor_nullcount',\n",
       " 'DataMonitor_patentwithdrawncount',\n",
       " 'DataMonitor_patentyearlycount',\n",
       " 'DataMonitor_prefixedentitycount',\n",
       " 'DataMonitor_topnentities']"
      ]
     },
     "execution_count": 91,
     "metadata": {},
     "output_type": "execute_result"
    }
   ],
   "source": [
    "new"
   ]
  },
  {
   "cell_type": "code",
   "execution_count": 90,
   "id": "cd2cc488",
   "metadata": {},
   "outputs": [],
   "source": [
    "new.remove('DataMonitor_LocDisambig')"
   ]
  },
  {
   "cell_type": "code",
   "execution_count": 73,
   "id": "c66ddbbe",
   "metadata": {},
   "outputs": [
    {
     "name": "stdout",
     "output_type": "stream",
     "text": [
      "\n",
      "alter table patent_QA.DataMonitor_count add column `revised_update_version` date\n",
      "        \n",
      "\n",
      "update DataMonitor_count set revised_update_version = CAST(update_version AS DATE);\n",
      "        \n",
      "\n",
      "alter table patent_QA.DataMonitor_distinctidcount add column `revised_update_version` date\n",
      "        \n",
      "\n",
      "update DataMonitor_distinctidcount set revised_update_version = CAST(update_version AS DATE);\n",
      "        \n",
      "\n",
      "alter table patent_QA.DataMonitor_floatingentitycount add column `revised_update_version` date\n",
      "        \n",
      "\n",
      "update DataMonitor_floatingentitycount set revised_update_version = CAST(update_version AS DATE);\n",
      "        \n",
      "\n",
      "alter table patent_QA.DataMonitor_floatingpatentcount add column `revised_update_version` date\n",
      "        \n",
      "\n",
      "update DataMonitor_floatingpatentcount set revised_update_version = CAST(update_version AS DATE);\n",
      "        \n",
      "\n",
      "alter table patent_QA.DataMonitor_govtinterestsampler add column `revised_update_version` date\n",
      "        \n",
      "\n",
      "update DataMonitor_govtinterestsampler set revised_update_version = CAST(update_version AS DATE);\n",
      "        \n",
      "\n",
      "alter table patent_QA.DataMonitor_locationcount add column `revised_update_version` date\n",
      "        \n",
      "\n",
      "update DataMonitor_locationcount set revised_update_version = CAST(update_version AS DATE);\n",
      "        \n",
      "\n",
      "alter table patent_QA.DataMonitor_maxtextlength add column `revised_update_version` date\n",
      "        \n",
      "\n",
      "update DataMonitor_maxtextlength set revised_update_version = CAST(update_version AS DATE);\n",
      "        \n",
      "\n",
      "alter table patent_QA.DataMonitor_nullcount add column `revised_update_version` date\n",
      "        \n",
      "\n",
      "update DataMonitor_nullcount set revised_update_version = CAST(update_version AS DATE);\n",
      "        \n",
      "\n",
      "alter table patent_QA.DataMonitor_patentwithdrawncount add column `revised_update_version` date\n",
      "        \n",
      "\n",
      "update DataMonitor_patentwithdrawncount set revised_update_version = CAST(update_version AS DATE);\n",
      "        \n",
      "\n",
      "alter table patent_QA.DataMonitor_patentyearlycount add column `revised_update_version` date\n",
      "        \n",
      "\n",
      "update DataMonitor_patentyearlycount set revised_update_version = CAST(update_version AS DATE);\n",
      "        \n",
      "\n",
      "alter table patent_QA.DataMonitor_prefixedentitycount add column `revised_update_version` date\n",
      "        \n",
      "\n",
      "update DataMonitor_prefixedentitycount set revised_update_version = CAST(update_version AS DATE);\n",
      "        \n",
      "\n",
      "alter table patent_QA.DataMonitor_topnentities add column `revised_update_version` date\n",
      "        \n",
      "\n",
      "update DataMonitor_topnentities set revised_update_version = CAST(update_version AS DATE);\n",
      "        \n"
     ]
    }
   ],
   "source": [
    "update_tables(prod_connection_string, tl)"
   ]
  },
  {
   "cell_type": "code",
   "execution_count": 77,
   "id": "1daa0780",
   "metadata": {},
   "outputs": [
    {
     "name": "stdout",
     "output_type": "stream",
     "text": [
      "\n",
      "alter table patent_QA.DataMonitor_count drop column `update_version`\n",
      "        \n",
      "\n",
      "alter table DataMonitor_count change column `revised_update_version` update_version date;\n",
      "        \n",
      "\n",
      "alter table patent_QA.DataMonitor_distinctidcount drop column `update_version`\n",
      "        \n",
      "\n",
      "alter table DataMonitor_distinctidcount change column `revised_update_version` update_version date;\n",
      "        \n",
      "\n",
      "alter table patent_QA.DataMonitor_floatingentitycount drop column `update_version`\n",
      "        \n",
      "\n",
      "alter table DataMonitor_floatingentitycount change column `revised_update_version` update_version date;\n",
      "        \n",
      "\n",
      "alter table patent_QA.DataMonitor_floatingpatentcount drop column `update_version`\n",
      "        \n",
      "\n",
      "alter table DataMonitor_floatingpatentcount change column `revised_update_version` update_version date;\n",
      "        \n",
      "\n",
      "alter table patent_QA.DataMonitor_govtinterestsampler drop column `update_version`\n",
      "        \n",
      "\n",
      "alter table DataMonitor_govtinterestsampler change column `revised_update_version` update_version date;\n",
      "        \n",
      "\n",
      "alter table patent_QA.DataMonitor_locationcount drop column `update_version`\n",
      "        \n",
      "\n",
      "alter table DataMonitor_locationcount change column `revised_update_version` update_version date;\n",
      "        \n",
      "\n",
      "alter table patent_QA.DataMonitor_maxtextlength drop column `update_version`\n",
      "        \n",
      "\n",
      "alter table DataMonitor_maxtextlength change column `revised_update_version` update_version date;\n",
      "        \n",
      "\n",
      "alter table patent_QA.DataMonitor_nullcount drop column `update_version`\n",
      "        \n",
      "\n",
      "alter table DataMonitor_nullcount change column `revised_update_version` update_version date;\n",
      "        \n",
      "\n",
      "alter table patent_QA.DataMonitor_patentwithdrawncount drop column `update_version`\n",
      "        \n",
      "\n",
      "alter table DataMonitor_patentwithdrawncount change column `revised_update_version` update_version date;\n",
      "        \n",
      "\n",
      "alter table patent_QA.DataMonitor_patentyearlycount drop column `update_version`\n",
      "        \n",
      "\n",
      "alter table DataMonitor_patentyearlycount change column `revised_update_version` update_version date;\n",
      "        \n",
      "\n",
      "alter table patent_QA.DataMonitor_prefixedentitycount drop column `update_version`\n",
      "        \n",
      "\n",
      "alter table DataMonitor_prefixedentitycount change column `revised_update_version` update_version date;\n",
      "        \n",
      "\n",
      "alter table patent_QA.DataMonitor_topnentities drop column `update_version`\n",
      "        \n",
      "\n",
      "alter table DataMonitor_topnentities change column `revised_update_version` update_version date;\n",
      "        \n"
     ]
    }
   ],
   "source": [
    "update_tables_step2(prod_connection_string, tl)"
   ]
  },
  {
   "cell_type": "code",
   "execution_count": 78,
   "id": "7d540186",
   "metadata": {},
   "outputs": [
    {
     "name": "stdout",
     "output_type": "stream",
     "text": [
      "\n",
      "alter table patent_QA.DataMonitor_categorycount add column `revised_update_version` date\n",
      "        \n",
      "\n",
      "update DataMonitor_categorycount set revised_update_version = CAST(update_version AS DATE);\n",
      "        \n",
      "\n",
      "alter table patent_QA.DataMonitor_categorycount drop column `update_version`\n",
      "        \n",
      "\n",
      "alter table DataMonitor_categorycount change column `revised_update_version` update_version date;\n",
      "        \n"
     ]
    }
   ],
   "source": [
    "update_tables(prod_connection_string, ['DataMonitor_categorycount'])\n",
    "update_tables_step2(prod_connection_string, ['DataMonitor_categorycount'])"
   ]
  },
  {
   "cell_type": "code",
   "execution_count": 92,
   "id": "eeda93dd",
   "metadata": {},
   "outputs": [
    {
     "name": "stdout",
     "output_type": "stream",
     "text": [
      "\n",
      "alter table patent_QA.DataMonitor_categorycount add column `quarter` varchar(10)\n",
      "        \n",
      "\n",
      "update DataMonitor_categorycount set quarter = concat(year(update_version),\"-\",quarter(update_version));\n",
      "        \n",
      "\n",
      "alter table patent_QA.DataMonitor_count add column `quarter` varchar(10)\n",
      "        \n",
      "\n",
      "update DataMonitor_count set quarter = concat(year(update_version),\"-\",quarter(update_version));\n",
      "        \n",
      "\n",
      "alter table patent_QA.DataMonitor_distinctidcount add column `quarter` varchar(10)\n",
      "        \n",
      "\n",
      "update DataMonitor_distinctidcount set quarter = concat(year(update_version),\"-\",quarter(update_version));\n",
      "        \n",
      "\n",
      "alter table patent_QA.DataMonitor_floatingentitycount add column `quarter` varchar(10)\n",
      "        \n",
      "\n",
      "update DataMonitor_floatingentitycount set quarter = concat(year(update_version),\"-\",quarter(update_version));\n",
      "        \n",
      "\n",
      "alter table patent_QA.DataMonitor_floatingpatentcount add column `quarter` varchar(10)\n",
      "        \n",
      "\n",
      "update DataMonitor_floatingpatentcount set quarter = concat(year(update_version),\"-\",quarter(update_version));\n",
      "        \n",
      "\n",
      "alter table patent_QA.DataMonitor_govtinterestsampler add column `quarter` varchar(10)\n",
      "        \n",
      "\n",
      "update DataMonitor_govtinterestsampler set quarter = concat(year(update_version),\"-\",quarter(update_version));\n",
      "        \n",
      "\n",
      "alter table patent_QA.DataMonitor_locationcount add column `quarter` varchar(10)\n",
      "        \n",
      "\n",
      "update DataMonitor_locationcount set quarter = concat(year(update_version),\"-\",quarter(update_version));\n",
      "        \n",
      "\n",
      "alter table patent_QA.DataMonitor_maxtextlength add column `quarter` varchar(10)\n",
      "        \n",
      "\n",
      "update DataMonitor_maxtextlength set quarter = concat(year(update_version),\"-\",quarter(update_version));\n",
      "        \n",
      "\n",
      "alter table patent_QA.DataMonitor_nullcount add column `quarter` varchar(10)\n",
      "        \n",
      "\n",
      "update DataMonitor_nullcount set quarter = concat(year(update_version),\"-\",quarter(update_version));\n",
      "        \n",
      "\n",
      "alter table patent_QA.DataMonitor_patentwithdrawncount add column `quarter` varchar(10)\n",
      "        \n",
      "\n",
      "update DataMonitor_patentwithdrawncount set quarter = concat(year(update_version),\"-\",quarter(update_version));\n",
      "        \n",
      "\n",
      "alter table patent_QA.DataMonitor_patentyearlycount add column `quarter` varchar(10)\n",
      "        \n",
      "\n",
      "update DataMonitor_patentyearlycount set quarter = concat(year(update_version),\"-\",quarter(update_version));\n",
      "        \n",
      "\n",
      "alter table patent_QA.DataMonitor_prefixedentitycount add column `quarter` varchar(10)\n",
      "        \n",
      "\n",
      "update DataMonitor_prefixedentitycount set quarter = concat(year(update_version),\"-\",quarter(update_version));\n",
      "        \n",
      "\n",
      "alter table patent_QA.DataMonitor_topnentities add column `quarter` varchar(10)\n",
      "        \n",
      "\n",
      "update DataMonitor_topnentities set quarter = concat(year(update_version),\"-\",quarter(update_version));\n",
      "        \n"
     ]
    }
   ],
   "source": [
    "add_quarter_column(prod_connection_string, new)"
   ]
  },
  {
   "cell_type": "markdown",
   "id": "583ba034",
   "metadata": {},
   "source": [
    "# FUNCTIONS "
   ]
  },
  {
   "cell_type": "code",
   "execution_count": 79,
   "id": "d72ab0bd",
   "metadata": {},
   "outputs": [],
   "source": [
    "def add_quarter_column(connection_string, table_list):\n",
    "    engine=create_engine(connection_string)\n",
    "    for table in table_list:\n",
    "        q1 = f\"\"\"\n",
    "alter table patent_QA.{table} add column `quarter` varchar(10)\n",
    "        \"\"\"\n",
    "        print(q1)\n",
    "        engine.execute(q1)\n",
    "        q2 = f\"\"\"\n",
    "update {table} set quarter = concat(year(update_version),\"-\",quarter(update_version));\n",
    "        \"\"\" \n",
    "        print(q2)\n",
    "        engine.execute(q2)"
   ]
  },
  {
   "cell_type": "code",
   "execution_count": 71,
   "id": "5d2123dd",
   "metadata": {},
   "outputs": [],
   "source": [
    "def update_tables(connection_string, table_list):\n",
    "    engine=create_engine(connection_string)\n",
    "    for table in table_list:\n",
    "        q1 = f\"\"\"\n",
    "alter table patent_QA.{table} add column `revised_update_version` date\n",
    "        \"\"\"\n",
    "        print(q1)\n",
    "        engine.execute(q1)\n",
    "        q2 = f\"\"\"\n",
    "update {table} set revised_update_version = CAST(update_version AS DATE);\n",
    "        \"\"\"\n",
    "        print(q2)\n",
    "        engine.execute(q2)"
   ]
  },
  {
   "cell_type": "code",
   "execution_count": 76,
   "id": "62b834ef",
   "metadata": {},
   "outputs": [],
   "source": [
    "def update_tables_step2(connection_string, table_list):\n",
    "    engine=create_engine(connection_string)\n",
    "    for table in table_list:\n",
    "        q1 = f\"\"\"\n",
    "alter table patent_QA.{table} drop column `update_version`\n",
    "        \"\"\"\n",
    "        print(q1)\n",
    "        engine.execute(q1)    \n",
    "        q2 = f\"\"\"\n",
    "alter table {table} change column `revised_update_version` update_version date;\n",
    "        \"\"\"\n",
    "        print(q2)\n",
    "        engine.execute(q2)"
   ]
  },
  {
   "cell_type": "code",
   "execution_count": 14,
   "id": "de58ecb2",
   "metadata": {},
   "outputs": [],
   "source": [
    "def query_for_all_tables_in_db(connection_string, database):\n",
    "    engine=create_engine(connection_string)\n",
    "    table_data_raw=pd.read_sql_query(sql=f\"\"\"\n",
    "    select TABLE_NAME\n",
    "    from information_schema.tables\n",
    "    where TABLE_SCHEMA = '{database}' \n",
    "    \"\"\", con=engine)\n",
    "    return table_data_raw"
   ]
  },
  {
   "cell_type": "code",
   "execution_count": null,
   "id": "cf6d0e76",
   "metadata": {},
   "outputs": [],
   "source": []
  },
  {
   "cell_type": "code",
   "execution_count": 74,
   "id": "c635d538",
   "metadata": {},
   "outputs": [],
   "source": [
    "final_fo_real.to_csv('pgpubs_version_indicator')"
   ]
  }
 ],
 "metadata": {
  "kernelspec": {
   "display_name": "Python 3 (ipykernel)",
   "language": "python",
   "name": "python3"
  },
  "language_info": {
   "codemirror_mode": {
    "name": "ipython",
    "version": 3
   },
   "file_extension": ".py",
   "mimetype": "text/x-python",
   "name": "python",
   "nbconvert_exporter": "python",
   "pygments_lexer": "ipython3",
   "version": "3.9.12"
  }
 },
 "nbformat": 4,
 "nbformat_minor": 5
}
