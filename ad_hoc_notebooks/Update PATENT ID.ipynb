{
 "cells": [
  {
   "cell_type": "code",
   "execution_count": 1,
   "id": "76d1f6a1",
   "metadata": {},
   "outputs": [],
   "source": [
    "import os\n",
    "import pymysql\n",
    "import datetime\n",
    "import pandas as pd\n",
    "from sqlalchemy import create_engine"
   ]
  },
  {
   "cell_type": "code",
   "execution_count": 2,
   "id": "34070e5e",
   "metadata": {},
   "outputs": [],
   "source": [
    "os.environ['PACKAGE_HOME']=\"/Users/bcard/OneDrive - American Institutes for Research in the Behavioral Sciences/projects/patentsview/PatentsView-DB\"\n"
   ]
  },
  {
   "cell_type": "code",
   "execution_count": 3,
   "id": "0f88c255",
   "metadata": {},
   "outputs": [
    {
     "data": {
      "text/plain": [
       "'/Users/bcard/Downloads'"
      ]
     },
     "execution_count": 3,
     "metadata": {},
     "output_type": "execute_result"
    }
   ],
   "source": [
    "pwd"
   ]
  },
  {
   "cell_type": "code",
   "execution_count": 4,
   "id": "a36bc404",
   "metadata": {},
   "outputs": [
    {
     "name": "stdout",
     "output_type": "stream",
     "text": [
      "/Users/bcard\n"
     ]
    }
   ],
   "source": [
    "cd .."
   ]
  },
  {
   "cell_type": "code",
   "execution_count": 5,
   "id": "bb56d46d",
   "metadata": {},
   "outputs": [
    {
     "name": "stdout",
     "output_type": "stream",
     "text": [
      "/Users/bcard/Library/CloudStorage/OneDrive-AmericanInstitutesforResearchintheBehavioralSciences\n"
     ]
    }
   ],
   "source": [
    "cd OneDrive - American Institutes for Research in the Behavioral Sciences"
   ]
  },
  {
   "cell_type": "code",
   "execution_count": 6,
   "id": "ffa26710",
   "metadata": {
    "scrolled": true
   },
   "outputs": [
    {
     "name": "stdout",
     "output_type": "stream",
     "text": [
      "/Users/bcard/Library/CloudStorage/OneDrive-AmericanInstitutesforResearchintheBehavioralSciences/projects/patentsview/PatentsView-DB\n"
     ]
    }
   ],
   "source": [
    "cd projects/patentsview/PatentsView-DB"
   ]
  },
  {
   "cell_type": "markdown",
   "id": "341a1bc1",
   "metadata": {},
   "source": [
    "# INSTRUCTIONS "
   ]
  },
  {
   "cell_type": "markdown",
   "id": "24701d24",
   "metadata": {},
   "source": [
    "Utility : Patent numbers consist of six, seven or eight digits. Enter the Patent number excluding commas and spaces and omit leading zeroes.\n",
    " \n",
    "Reissue : (e.g., Rennnnnn, RE000126) must enter leading zeroes between \"RE\" and number to create 6 digits.\n",
    " \n",
    "Plant Patents :(e.g., PPnnnnnn, PP000126) must enter leading zeroes between \"PP\" and number to create 6 digits.\n",
    " \n",
    "Design : (e.g., Dnnnnnnn, D0000126) must enter leading zeroes between \"D\" and number to create 7 digits.\n",
    "\n",
    "H Documents (statutory invention registration) : (e.g., Hnnnnnnn , H0000001) must enter leading zeroes between \"H\" and number to create 7 digits.\n",
    " \n",
    "T Documents (defensive publication) : (e.g., Tnnnnnnn , T0000001) must enter leading zeroes between \"T\" and number to create 7 digits.\n",
    "\n",
    "****************************************************************************************\n",
    " \n",
    "Additions of Improvements : (e.g., AInnnnnn , AI000126AI) must enter leading zeroes between \"AI\" and number tocreate 6 digits.\n",
    " \n",
    "X Patents : (e.g., Xnnnnnnn , X0000001) must enter leading zeroes between \"X\" and number to create 7 digits.\n",
    " "
   ]
  },
  {
   "cell_type": "code",
   "execution_count": null,
   "id": "2c80084f",
   "metadata": {},
   "outputs": [],
   "source": []
  },
  {
   "cell_type": "markdown",
   "id": "83d66f6b",
   "metadata": {},
   "source": [
    "- defensive publication X\n",
    "- design X\n",
    "- plant X\n",
    "- reissue X\n",
    "- statutory invention registration X\n",
    "- TVPP\n",
    "- utility X"
   ]
  },
  {
   "cell_type": "markdown",
   "id": "3d107f49",
   "metadata": {},
   "source": [
    "# SET UP"
   ]
  },
  {
   "cell_type": "code",
   "execution_count": 12,
   "id": "500f86d2",
   "metadata": {
    "ExecuteTime": {
     "end_time": "2021-12-15T18:48:26.908237Z",
     "start_time": "2021-12-15T18:48:26.903306Z"
    }
   },
   "outputs": [],
   "source": [
    "from lib.configuration import get_config, get_connection_string, get_current_config\n",
    "\n",
    "c=get_config()"
   ]
  },
  {
   "cell_type": "code",
   "execution_count": 13,
   "id": "138d51d7",
   "metadata": {},
   "outputs": [],
   "source": [
    "config = get_current_config('granted_patent', **{\n",
    "        \"execution_date\": datetime.date(2022, 6, 1)\n",
    "    })"
   ]
  },
  {
   "cell_type": "code",
   "execution_count": 14,
   "id": "0fc6eb4b",
   "metadata": {},
   "outputs": [
    {
     "data": {
      "text/plain": [
       "'upload_20220608'"
      ]
     },
     "execution_count": 14,
     "metadata": {},
     "output_type": "execute_result"
    }
   ],
   "source": [
    "temp = config['PATENTSVIEW_DATABASES']['TEMP_UPLOAD_DB']\n",
    "temp"
   ]
  },
  {
   "cell_type": "code",
   "execution_count": 15,
   "id": "683eefd2",
   "metadata": {
    "ExecuteTime": {
     "end_time": "2021-12-15T18:49:11.352415Z",
     "start_time": "2021-12-15T18:49:11.349175Z"
    }
   },
   "outputs": [],
   "source": [
    "prod_connection_string=get_connection_string(config, database='PROD_DB', connection='DATABASE_SETUP')"
   ]
  },
  {
   "cell_type": "markdown",
   "id": "3e857942",
   "metadata": {},
   "source": [
    "# GET TABLES"
   ]
  },
  {
   "cell_type": "code",
   "execution_count": 34,
   "id": "c95e93e1",
   "metadata": {},
   "outputs": [
    {
     "name": "stdout",
     "output_type": "stream",
     "text": [
      " \n",
      "------------------------------------------------------------\n",
      "plant :  8 Target Characters\n",
      "------------------------------------------------------------\n",
      "\n",
      "update patent_to_eight_char\n",
      "set patent_id_eight_char = insert(id,3,0,'000000')\n",
      "where length(id) = 2 and type = 'plant';\n",
      "\n",
      "update patent_to_eight_char\n",
      "set patent_id_eight_char = insert(id,3,0,'00000')\n",
      "where length(id) = 3 and type = 'plant';\n",
      "\n",
      "update patent_to_eight_char\n",
      "set patent_id_eight_char = insert(id,3,0,'0000')\n",
      "where length(id) = 4 and type = 'plant';\n",
      "\n",
      "update patent_to_eight_char\n",
      "set patent_id_eight_char = insert(id,3,0,'000')\n",
      "where length(id) = 5 and type = 'plant';\n",
      "\n",
      "update patent_to_eight_char\n",
      "set patent_id_eight_char = insert(id,3,0,'00')\n",
      "where length(id) = 6 and type = 'plant';\n",
      "\n",
      "update patent_to_eight_char\n",
      "set patent_id_eight_char = insert(id,3,0,'0')\n",
      "where length(id) = 7 and type = 'plant';\n",
      "\n",
      "update patent_to_eight_char\n",
      "set patent_id_eight_char = id\n",
      "where length(id) = 8 and type = 'plant';\n"
     ]
    }
   ],
   "source": [
    "update_patent_id_in_patent(prod_connection_string)"
   ]
  },
  {
   "cell_type": "code",
   "execution_count": null,
   "id": "25f5d40f",
   "metadata": {},
   "outputs": [],
   "source": [
    "update_patent_id_all_tables(prod_connection_string, prod_data)"
   ]
  },
  {
   "cell_type": "code",
   "execution_count": null,
   "id": "b8cee784",
   "metadata": {},
   "outputs": [],
   "source": [
    "\"\"\"\n",
    "alter table patent_to_eight_char add index `type_index` (`type`)\n",
    "alter table patent_to_eight_char add primary key `id` (`id`)\n",
    "\n",
    "\"\"\""
   ]
  },
  {
   "cell_type": "markdown",
   "id": "583ba034",
   "metadata": {},
   "source": [
    "# FUNCTIONS "
   ]
  },
  {
   "cell_type": "markdown",
   "id": "f1cc5e97",
   "metadata": {},
   "source": [
    "#### UPDATE ALL PATENT TYPES IN THE PATENT TABLE"
   ]
  },
  {
   "cell_type": "code",
   "execution_count": 7,
   "id": "61330e1c",
   "metadata": {},
   "outputs": [],
   "source": [
    "def update_patent_id_in_patent(connection_string):\n",
    "#     engine=create_engine(connection_string)\n",
    "#     for i, j in [('reissue',6),('plant',6), ('resign',7), ('statutory invention registration',7), ('defensive publication',7)]:\n",
    "#         print(\" \")\n",
    "#         print(\"------------------------------------------------------------\")\n",
    "#         print(i,\": \", j, \"Target Characters\")\n",
    "#         print(\"------------------------------------------------------------\")\n",
    "#         if i == 'utility':\n",
    "#         else:\n",
    "#             start_position = 2\n",
    "#             if i == 'reissue' or i == 'plant':\n",
    "#                 start_position = 3\n",
    "#             for k in range(3, j):\n",
    "#                 z = j - k\n",
    "#                 insert_zeros = \"0\" * z\n",
    "#                 read_q = f\"\"\"\n",
    "#     update patent_to_eight_char\n",
    "#     set patent_id_eight_char = insert(id,{start_position},0,{insert_zeros})\n",
    "#     where length(id) = {k} and type = '{i}';\"\"\"\n",
    "#                 print(read_q)\n",
    "    #             engine.execute(read_q)\n"
   ]
  },
  {
   "cell_type": "code",
   "execution_count": 33,
   "id": "634ec3e2",
   "metadata": {},
   "outputs": [
    {
     "name": "stdout",
     "output_type": "stream",
     "text": [
      " \n",
      "DONE.\n",
      " \n"
     ]
    }
   ],
   "source": [
    "def update_patent_id_in_patent(connection_string):\n",
    "    engine=create_engine(connection_string)\n",
    "    target_char = 8\n",
    "#     for i in ['reissue','plant', 'design', 'statutory invention registration','defensive publication', 'utility']:\n",
    "    for i in ['plant']:    \n",
    "        print(\" \")\n",
    "        print(\"------------------------------------------------------------\")\n",
    "        print(i,\": \", target_char, \"Target Characters\")\n",
    "        print(\"------------------------------------------------------------\")\n",
    "        if i == 'utility':\n",
    "            read_q = f\"\"\"\n",
    "update patent_to_eight_char\n",
    "set patent_id_eight_char = insert(id,1,0,'0')\n",
    "where length(id) = 7 and type = '{i}';\"\"\"\n",
    "            print(read_q)\n",
    "            engine.execute(read_q)\n",
    "            read_q2 = f\"\"\"\n",
    "update patent_to_eight_char\n",
    "set patent_id_eight_char = id\n",
    "where length(id) = 8 and type = '{i}';\"\"\"\n",
    "            print(read_q2)\n",
    "            engine.execute(read_q2)   \n",
    "            \n",
    "        else:\n",
    "            start_position = 2\n",
    "            if i == 'reissue' or i == 'plant':\n",
    "                start_position = 3\n",
    "            for k in range(2, target_char):\n",
    "                z = target_char - k\n",
    "                insert_zeros = \"0\" * z\n",
    "                read_q = f\"\"\"\n",
    "update patent_to_eight_char\n",
    "set patent_id_eight_char = insert(id,{start_position},0,'{insert_zeros}')\n",
    "where length(id) = {k} and type = '{i}';\"\"\"\n",
    "                print(read_q)\n",
    "                engine.execute(read_q)\n",
    "\n",
    "            read_q2 = f\"\"\"\n",
    "update patent_to_eight_char\n",
    "set patent_id_eight_char = id\n",
    "where length(id) = 8 and type = '{i}';\"\"\"\n",
    "            print(read_q2)\n",
    "            engine.execute(read_q2)\n",
    "\n",
    "    print(\" \")\n",
    "    print(\"DONE.\")\n",
    "    print(\" \")"
   ]
  },
  {
   "cell_type": "markdown",
   "id": "330c18b3",
   "metadata": {},
   "source": [
    "#### UPDATE ALL OTHER TABLES PATENT_ID BASED ON PATENT.ID"
   ]
  },
  {
   "cell_type": "code",
   "execution_count": null,
   "id": "961cbf31",
   "metadata": {},
   "outputs": [],
   "source": [
    "# def update_patent_id_all_tables(connection_string, df):\n",
    "#     all_tables = list(set(df['TABLE_NAME']))\n",
    "#     total = len(all_tables)\n",
    "#     engine=create_engine(connection_string)\n",
    "#     for t in all_tables: \n",
    "#         read_q = f\"\"\"\n",
    "# update {t} as update_table\n",
    "# inner join patent on update_table.patent_id=patent.id\n",
    "# set update_table.patent_id = patent.id;\n",
    "#     \"\"\"\n",
    "#         print(read_q)\n",
    "#         engine.execute(read_q)\n",
    "#         final_dataset_local = pd.concat([final_dataset_local, table_vi])\n",
    "#         print(counter/total)\n",
    "#         counter = counter+1"
   ]
  },
  {
   "cell_type": "markdown",
   "id": "8f1b7b30",
   "metadata": {},
   "source": [
    "#### FIND ALL TABLES WITH PATENT_ID"
   ]
  },
  {
   "cell_type": "code",
   "execution_count": 15,
   "id": "5d2123dd",
   "metadata": {},
   "outputs": [],
   "source": [
    "# def query_for_all_tables_with_patent_id(connection_string, temp):\n",
    "#     engine=create_engine(connection_string)\n",
    "#     table_data_raw=pd.read_sql_query(sql=f\"\"\"\n",
    "#     select TABLE_NAME\n",
    "#     from information_schema.columns\n",
    "#     where TABLE_SCHEMA = '{temp}' and column_name = 'patent_id';\n",
    "#     \"\"\", con=engine)\n",
    "#     return table_data_raw"
   ]
  },
  {
   "cell_type": "code",
   "execution_count": 138,
   "id": "3edd18c9",
   "metadata": {},
   "outputs": [
    {
     "data": {
      "text/plain": [
       "'/Users/bcard/Library/CloudStorage/OneDrive-AmericanInstitutesforResearchintheBehavioralSciences/projects/patentsview/PatentsView-DB'"
      ]
     },
     "execution_count": 138,
     "metadata": {},
     "output_type": "execute_result"
    }
   ],
   "source": [
    "pwd"
   ]
  },
  {
   "cell_type": "code",
   "execution_count": 72,
   "id": "ef758bf6",
   "metadata": {},
   "outputs": [
    {
     "name": "stdout",
     "output_type": "stream",
     "text": [
      "/Users/bcard\n"
     ]
    }
   ],
   "source": [
    "cd .."
   ]
  },
  {
   "cell_type": "code",
   "execution_count": 73,
   "id": "8955d53f",
   "metadata": {},
   "outputs": [
    {
     "name": "stdout",
     "output_type": "stream",
     "text": [
      "/Users/bcard/Downloads\n"
     ]
    }
   ],
   "source": [
    "cd Downloads/"
   ]
  },
  {
   "cell_type": "code",
   "execution_count": 74,
   "id": "c635d538",
   "metadata": {},
   "outputs": [],
   "source": [
    "final_fo_real.to_csv('pgpubs_version_indicator')"
   ]
  }
 ],
 "metadata": {
  "kernelspec": {
   "display_name": "Python 3 (ipykernel)",
   "language": "python",
   "name": "python3"
  },
  "language_info": {
   "codemirror_mode": {
    "name": "ipython",
    "version": 3
   },
   "file_extension": ".py",
   "mimetype": "text/x-python",
   "name": "python",
   "nbconvert_exporter": "python",
   "pygments_lexer": "ipython3",
   "version": "3.9.7"
  }
 },
 "nbformat": 4,
 "nbformat_minor": 5
}
