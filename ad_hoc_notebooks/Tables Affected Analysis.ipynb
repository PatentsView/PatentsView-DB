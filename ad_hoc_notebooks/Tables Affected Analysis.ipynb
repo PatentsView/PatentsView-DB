{
 "cells": [
  {
   "cell_type": "code",
   "execution_count": 1,
   "id": "f216b7db",
   "metadata": {},
   "outputs": [],
   "source": [
    "import pandas as pd"
   ]
  },
  {
   "cell_type": "code",
   "execution_count": 2,
   "id": "d6e57b3f",
   "metadata": {},
   "outputs": [],
   "source": [
    "dependencies=pd.read_csv(\"dependencies.csv\", header=None)"
   ]
  },
  {
   "cell_type": "code",
   "execution_count": 3,
   "id": "0ed3d872",
   "metadata": {},
   "outputs": [
    {
     "data": {
      "text/html": [
       "<div>\n",
       "<style scoped>\n",
       "    .dataframe tbody tr th:only-of-type {\n",
       "        vertical-align: middle;\n",
       "    }\n",
       "\n",
       "    .dataframe tbody tr th {\n",
       "        vertical-align: top;\n",
       "    }\n",
       "\n",
       "    .dataframe thead th {\n",
       "        text-align: right;\n",
       "    }\n",
       "</style>\n",
       "<table border=\"1\" class=\"dataframe\">\n",
       "  <thead>\n",
       "    <tr style=\"text-align: right;\">\n",
       "      <th></th>\n",
       "      <th>0</th>\n",
       "      <th>1</th>\n",
       "    </tr>\n",
       "  </thead>\n",
       "  <tbody>\n",
       "    <tr>\n",
       "      <th>0</th>\n",
       "      <td>`patent`.`patent_assignee`</td>\n",
       "      <td>`PatentsView`.`temp_id_mapping_assignee`</td>\n",
       "    </tr>\n",
       "    <tr>\n",
       "      <th>1</th>\n",
       "      <td>`PatentsView`.`temp_id_mapping_assignee`</td>\n",
       "      <td>`PatentsView`.`patent_assignee`</td>\n",
       "    </tr>\n",
       "    <tr>\n",
       "      <th>2</th>\n",
       "      <td>`PatentsView`.`temp_id_mapping_assignee`</td>\n",
       "      <td>`PatentsView`.`location_assignee`</td>\n",
       "    </tr>\n",
       "    <tr>\n",
       "      <th>3</th>\n",
       "      <td>`PatentsView`.`temp_id_mapping_assignee`</td>\n",
       "      <td>`PatentsView`.`assignee`</td>\n",
       "    </tr>\n",
       "    <tr>\n",
       "      <th>4</th>\n",
       "      <td>`patent`.`patent_inventor`</td>\n",
       "      <td>`PatentsView`.`temp_id_mapping_inventor`</td>\n",
       "    </tr>\n",
       "  </tbody>\n",
       "</table>\n",
       "</div>"
      ],
      "text/plain": [
       "                                          0  \\\n",
       "0                `patent`.`patent_assignee`   \n",
       "1  `PatentsView`.`temp_id_mapping_assignee`   \n",
       "2  `PatentsView`.`temp_id_mapping_assignee`   \n",
       "3  `PatentsView`.`temp_id_mapping_assignee`   \n",
       "4                `patent`.`patent_inventor`   \n",
       "\n",
       "                                          1  \n",
       "0  `PatentsView`.`temp_id_mapping_assignee`  \n",
       "1           `PatentsView`.`patent_assignee`  \n",
       "2         `PatentsView`.`location_assignee`  \n",
       "3                  `PatentsView`.`assignee`  \n",
       "4  `PatentsView`.`temp_id_mapping_inventor`  "
      ]
     },
     "execution_count": 3,
     "metadata": {},
     "output_type": "execute_result"
    }
   ],
   "source": [
    "dependencies.head()"
   ]
  },
  {
   "cell_type": "code",
   "execution_count": 29,
   "id": "af246e36",
   "metadata": {},
   "outputs": [
    {
     "data": {
      "text/plain": [
       "50    `PatentsView`.`location`\n",
       "Name: 1, dtype: object"
      ]
     },
     "execution_count": 29,
     "metadata": {},
     "output_type": "execute_result"
    }
   ],
   "source": [
    "dependencies[1][dependencies[0]=='`PatentsView`.`temp_location_num_assignees`']"
   ]
  },
  {
   "cell_type": "code",
   "execution_count": 37,
   "id": "42931b85",
   "metadata": {},
   "outputs": [
    {
     "data": {
      "text/plain": [
       "Series([], Name: 1, dtype: object)"
      ]
     },
     "execution_count": 37,
     "metadata": {},
     "output_type": "execute_result"
    }
   ],
   "source": [
    "dependencies[1][dependencies[0]=='`PatentsView`.`location`']"
   ]
  },
  {
   "cell_type": "code",
   "execution_count": 23,
   "id": "861ebfe3",
   "metadata": {},
   "outputs": [
    {
     "data": {
      "text/plain": [
       "<pandas.core.indexing._iLocIndexer at 0x7fa0297954f0>"
      ]
     },
     "execution_count": 23,
     "metadata": {},
     "output_type": "execute_result"
    }
   ],
   "source": [
    "obj"
   ]
  },
  {
   "cell_type": "code",
   "execution_count": 48,
   "id": "adac753a",
   "metadata": {},
   "outputs": [
    {
     "data": {
      "text/plain": [
       "['`PatentsView`.`inventors`']"
      ]
     },
     "execution_count": 48,
     "metadata": {},
     "output_type": "execute_result"
    }
   ],
   "source": [
    "list(dependencies[1][dependencies[0]=='`PatentsView`.`temp_location_num_inventors`'])"
   ]
  },
  {
   "cell_type": "code",
   "execution_count": 49,
   "id": "c5238611",
   "metadata": {},
   "outputs": [],
   "source": [
    "find_downstream_tables_of = '`patent`.`rawlocation`'\n",
    "first_list = list(dependencies[1][dependencies[0]==find_downstream_tables_of])"
   ]
  },
  {
   "cell_type": "code",
   "execution_count": 42,
   "id": "a60ef177",
   "metadata": {},
   "outputs": [
    {
     "data": {
      "text/plain": [
       "['`PatentsView`.`location`']"
      ]
     },
     "execution_count": 42,
     "metadata": {},
     "output_type": "execute_result"
    }
   ],
   "source": [
    "first_list"
   ]
  },
  {
   "cell_type": "code",
   "execution_count": 4,
   "id": "afee389c",
   "metadata": {},
   "outputs": [],
   "source": [
    "downstream_tables = []\n",
    "find_downstream_tables_of = '`PatentsView`.`temp_location_num_assignees`'\n",
    "first_list = list(dependencies[1][dependencies[0]==find_downstream_tables_of])\n",
    "for i in first_list:\n",
    "    downstream_tables.append(i)\n",
    "    temp_list = list(dependencies[1][dependencies[0]==i])\n",
    "    "
   ]
  },
  {
   "cell_type": "code",
   "execution_count": 44,
   "id": "0c66f06f",
   "metadata": {},
   "outputs": [],
   "source": [
    "downstream_tables = []\n",
    "downstream_tables.append(first_list[0])"
   ]
  },
  {
   "cell_type": "code",
   "execution_count": 45,
   "id": "ff68be0f",
   "metadata": {},
   "outputs": [
    {
     "data": {
      "text/plain": [
       "['`PatentsView`.`location`']"
      ]
     },
     "execution_count": 45,
     "metadata": {},
     "output_type": "execute_result"
    }
   ],
   "source": [
    "downstream_tables"
   ]
  },
  {
   "cell_type": "code",
   "execution_count": 46,
   "id": "6c14fa0a",
   "metadata": {},
   "outputs": [],
   "source": [
    "first_list = list(dependencies[1][dependencies[0]==first_list[0]])"
   ]
  },
  {
   "cell_type": "code",
   "execution_count": 47,
   "id": "4a50a34e",
   "metadata": {},
   "outputs": [
    {
     "data": {
      "text/plain": [
       "[]"
      ]
     },
     "execution_count": 47,
     "metadata": {},
     "output_type": "execute_result"
    }
   ],
   "source": [
    "first_list"
   ]
  }
 ],
 "metadata": {
  "kernelspec": {
   "display_name": "Python 3 (ipykernel)",
   "language": "python",
   "name": "python3"
  },
  "language_info": {
   "codemirror_mode": {
    "name": "ipython",
    "version": 3
   },
   "file_extension": ".py",
   "mimetype": "text/x-python",
   "name": "python",
   "nbconvert_exporter": "python",
   "pygments_lexer": "ipython3",
   "version": "3.9.7"
  }
 },
 "nbformat": 4,
 "nbformat_minor": 5
}
